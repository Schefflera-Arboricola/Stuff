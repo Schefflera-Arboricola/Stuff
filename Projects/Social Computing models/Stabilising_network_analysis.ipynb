{
  "cells": [
    {
      "cell_type": "markdown",
      "metadata": {
        "id": "65ZnAdYmHc3t"
      },
      "source": [
        "**If we have random positive and negative edges in a k5 graph, then how many iterations are required to make it stable? Is there any relationship between the initial number of positive edges and number of iterations required to make the graph stable?**"
      ]
    },
    {
      "cell_type": "code",
      "execution_count": 1,
      "metadata": {
        "id": "zaGesViDE0T7"
      },
      "outputs": [],
      "source": [
        "import random as r\n",
        "import networkx as nx\n",
        "import matplotlib.pyplot as plt\n",
        "import time"
      ]
    },
    {
      "cell_type": "code",
      "execution_count": 2,
      "metadata": {
        "id": "7WW7s-tCE03l"
      },
      "outputs": [],
      "source": [
        "def make_network(n):\n",
        "  #returns a complete network of n nodes with random positive and negative edges\n",
        "  #edge attribute 'sign'=1 for positive edge and -1 for negative edges\n",
        "  #it also returns the number of positive edges\n",
        "\n",
        "  g=nx.Graph()\n",
        "  g.add_nodes_from(list(range(1,n+1)))\n",
        "  c=0\n",
        "\n",
        "  for i in g.nodes():\n",
        "    for j in g.nodes():\n",
        "      if i!=j:\n",
        "        s=r.choice([-1,1])\n",
        "        g.add_edge(i,j,sign=s)\n",
        "        if s==1 : c+=1\n",
        "  return g,c\n",
        "\n",
        "def display(g):\n",
        "  #draws a graph with colored edges, with node labels, in circular layout\n",
        "  nx.draw_circular(g,with_labels=True,edge_color=get_colour(g))\n",
        "  plt.show()\n",
        "\n",
        "def get_colour(g):\n",
        "  #returns list of colours corresponding to 'sign' attribute of each edge\n",
        "  #blue edges : +1 ; red edges : -1\n",
        "  c=[]\n",
        "  for i in g.edges():\n",
        "    if g.edges()[i][\"sign\"]==-1 : c.append(\"red\")\n",
        "    else: c.append(\"blue\")\n",
        "  return c\n",
        "\n",
        "def unstable_triangles(g):\n",
        "  '''unstable triangle conditions :\n",
        "  ((s1==-1 and s2==-1 and s3==-1) or (s1==-1 and s2==1 and s3==1) or (s2==-1 and s1==1 and s3==1) or (s3==-1 and s2==1 and s1==1)) \n",
        "  is eqivalent to (s1*s2*s3==-1) '''\n",
        "\n",
        "  l=[] #list of combinations of all nodes taken 3 at a time (i.e. list of all triangle)\n",
        "  for i in g.nodes():\n",
        "      for j in g.nodes():\n",
        "        for k in g.nodes():\n",
        "          if i!=j and j!=k and i!=k:\n",
        "            s1,s2,s3=g.edges()[(i,j)][\"sign\"],g.edges()[(i,k)][\"sign\"],g.edges()[(k,j)][\"sign\"]\n",
        "            if (s1*s2*s3==-1) and ({i,j,k} not in l) : l.append({i,j,k})\n",
        "  return l\n",
        "\n",
        "\n",
        "def stablize(g):\n",
        "          #return a list of number of unstable triangles on each step\n",
        "          #it also stabilizes the whole network\n",
        "          L=[]\n",
        "          unstable=unstable_triangles(g)\n",
        "          L.append(len(unstable))\n",
        "          while unstable!=[]:\n",
        "            i,j,k=unstable[0]\n",
        "            s1,s2,s3=g.edges()[(i,j)][\"sign\"],g.edges()[(i,k)][\"sign\"],g.edges()[(k,j)][\"sign\"]\n",
        "            num=r.uniform(0,1)\n",
        "            if s1==-1 and s2==-1 and s3==-1: #'all enemies' triangle\n",
        "              #3 stable possibilities (1 enemy pair will turn into a friend pair)\n",
        "              if num<=1/3: s1=1\n",
        "              elif num<=2/3: s2=1\n",
        "              else: s3=1\n",
        "\n",
        "            elif s1==-1 and s2==1 and s3==1: #'1 enemy 2 friends' triangle case 1\n",
        "              #3 stable possibilities\n",
        "              if num<=0.01: s1=1 #0.01= probability that enemy pair will turn into friend pair (not calculated just randomly assigned)\n",
        "              elif num<=(0.99/2): s2=-1\n",
        "              else: s3=-1\n",
        "\n",
        "            elif s2==-1 and s1==1 and s3==1: #'1 enemy 2 friends' triangle case 2\n",
        "              #3 stable possibilities\n",
        "              if num<=0.01: s2=1\n",
        "              elif num<=(0.99/2): s1=-1\n",
        "              else: s3=-1\n",
        "\n",
        "            elif s3==-1 and s2==1 and s1==1: #'1 enemy 2 friends' triangle case 3\n",
        "              #3 stable possibilities\n",
        "              if num<=0.01: s3=1\n",
        "              elif num<=(0.99/2): s2=-1\n",
        "              else: s1=-1\n",
        "            g.edges()[(i,j)][\"sign\"],g.edges()[(i,k)][\"sign\"],g.edges()[(k,j)][\"sign\"]=s1,s2,s3\n",
        "            unstable=unstable_triangles(g)\n",
        "            L.append(len(unstable)) #list of number of unstable triangles\n",
        "          return L\n",
        "\n",
        "def see_stabilisation(evolve):\n",
        "  l=list(range(0,len(evolve)))\n",
        "  plt.bar(l,evolve)\n",
        "  plt.show()\n",
        "\n",
        "def avg_list(l):\n",
        "  s=0\n",
        "  for i in l:\n",
        "    s+=i\n",
        "  return (s/len(l))\n",
        "\n",
        "def plot_relation(x,y,xl=\"xlabel\",yl=\"ylabel\",title=\"tiltle\"):\n",
        "  plt.scatter(x, y)\n",
        "  plt.xlabel(xl)  \n",
        "  plt.ylabel(yl)\n",
        "  plt.title(title)  \n",
        "  plt.show() "
      ]
    },
    {
      "cell_type": "code",
      "source": [
        "n=5\n",
        "y=[]\n",
        "x=[]\n",
        "m=10**5\n",
        "for i in range(m):\n",
        "  g=make_network(n)\n",
        "  G=g[0] #k5 graph\n",
        "  x+=[g[1]] #number of positive edges\n",
        "  y+=[len(stablize(G))]\n",
        "print(\"Average number of iterations : \",avg_list(y))\n",
        "\n",
        "plot_relation(x,y,xl=\"number of positive edges\",yl=\"number of iterations to stabalise\",title=\"tiltle\")"
      ],
      "metadata": {
        "colab": {
          "base_uri": "https://localhost:8080/",
          "height": 312
        },
        "id": "gG9EWObK5QL_",
        "outputId": "d866c590-cf45-4c04-9e52-74582e822f21"
      },
      "execution_count": 3,
      "outputs": [
        {
          "output_type": "stream",
          "name": "stdout",
          "text": [
            "Average number of iterations :  12.33437\n"
          ]
        },
        {
          "output_type": "display_data",
          "data": {
            "text/plain": [
              "<Figure size 432x288 with 1 Axes>"
            ],
            "image/png": "[encoded data removed]"
          },
          "metadata": {
            "needs_background": "light"
          }
        }
      ]
    },
    {
      "cell_type": "markdown",
      "source": [
        "#Number of nodes Vs Number of iterations to stabalise plot"
      ],
      "metadata": {
        "id": "Z2RCRspX5jzB"
      }
    },
    {
      "cell_type": "code",
      "execution_count": 6,
      "metadata": {
        "colab": {
          "base_uri": "https://localhost:8080/",
          "height": 417
        },
        "id": "xH1iI3FuF9Iz",
        "outputId": "47126f4a-a896-49e2-cada-e0fb18ed43cf"
      },
      "outputs": [
        {
          "output_type": "stream",
          "name": "stdout",
          "text": [
            "3 1.491\n",
            "4 3.814\n",
            "5 12.694\n",
            "6 40.259\n",
            "7 102.835\n",
            "8 302.943\n",
            "9 907.461\n"
          ]
        },
        {
          "output_type": "display_data",
          "data": {
            "text/plain": [
              "<Figure size 432x288 with 1 Axes>"
            ],
            "image/png": "[encoded data removed]"
          },
          "metadata": {
            "needs_background": "light"
          }
        }
      ],
      "source": [
        "X,Y=[],[]\n",
        "n,m=10,10**3\n",
        "for i in range(3,n):\n",
        "  y=[]\n",
        "  for j in range(m):\n",
        "    g=make_network(i)\n",
        "    G=g[0] \n",
        "    y+=[len(stablize(G))]\n",
        "  avg=avg_list(y)\n",
        "  Y+=[avg]\n",
        "  X+=[i]\n",
        "  print(i,avg)\n",
        "\n",
        "plot_relation(X,Y,xl=\"number of nodes\",yl=\"avg number of iterations to stabalise\",title=\"tiltle\")\n"
      ]
    }
  ],
  "metadata": {
    "colab": {
      "name": "Stabilising network analysis.ipynb",
      "provenance": [],
      "authorship_tag": "ABX9TyOCdFwIar7mp3B3ZO3s9xCA"
    },
    "kernelspec": {
      "display_name": "Python 3",
      "name": "python3"
    },
    "language_info": {
      "name": "python"
    }
  },
  "nbformat": 4,
  "nbformat_minor": 0
}