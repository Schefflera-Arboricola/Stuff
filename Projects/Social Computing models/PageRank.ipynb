{
  "nbformat": 4,
  "nbformat_minor": 0,
  "metadata": {
    "colab": {
      "name": "week 6 : social networks.ipynb",
      "provenance": [],
      "collapsed_sections": []
    },
    "kernelspec": {
      "name": "python3",
      "display_name": "Python 3"
    },
    "language_info": {
      "name": "python"
    }
  },
  "cells": [
    {
      "cell_type": "markdown",
      "source": [
        "#Week 6  *(PageRank)*\n",
        "\n"
      ],
      "metadata": {
        "id": "8xJ9NuHG35Yi"
      }
    },
    {
      "cell_type": "code",
      "execution_count": null,
      "metadata": {
        "id": "wRqFn-q134Rt"
      },
      "outputs": [],
      "source": [
        "import random as r\n",
        "import networkx as nx\n",
        "import matplotlib.pyplot as plt\n",
        "import time \n",
        "import numpy as np"
      ]
    },
    {
      "cell_type": "code",
      "source": [
        "def avg_relation(low_lim,up_lim,avg_over):\n",
        "  ''' returns a list of average length of the random walk, \n",
        "  which explores all the nodes of 'avg_over' random graph,\n",
        "  (probability of an edge>=0.5), ranging from size 'low_lim' to 'up_lim'.'''\n",
        "\n",
        "  l=[]\n",
        "  for num_of_nodes in range(low_lim,up_lim):\n",
        "    l1=[]\n",
        "    for i in range(avg_over):\n",
        "      prob=r.uniform(0.5,1)\n",
        "      G=g=nx.erdos_renyi_graph(num_of_nodes,prob)\n",
        "      count=random_walk(G)\n",
        "      l1+=[count]\n",
        "    l+=[np.average(l1)]\n",
        "    #print(num_of_nodes,l[-1])\n",
        "  return l\n",
        "  \n",
        "def random_walk(g):\n",
        "  '''returns the length of the random walk, which explores\n",
        "  all the nodes of graph 'g'.\n",
        "  '''\n",
        "  node=r.randint(0,len(g.nodes())-1)\n",
        "  vis,c=[],0\n",
        "  while len(vis)!=len(g.nodes()):\n",
        "    if node not in vis:\n",
        "      vis+=[node]\n",
        "    node=r.choice(list(nx.neighbors(g,node)))\n",
        "    c+=1\n",
        "  return c\n",
        "\n",
        "def plot_relation(l):\n",
        "  #plots graph of list l\n",
        "  #i.e. plots the relation between nodes and exploration time\n",
        "  plt.xlabel('Number of nodes in the network')\n",
        "  plt.ylabel('Avg of steps to explore the whole graph')\n",
        "  plt.title(\"Number of steps taken to explore the whole graph\")\n",
        "  plt.plot(l)\n",
        "  \n",
        "\n",
        "def plot_nlogn(up_lim):\n",
        "  #ploting a graph of y=xlogx\n",
        "  x,y=[],[]\n",
        "  for i in range(up_lim):\n",
        "    x+=[i]\n",
        "    y+=[i*np.log(i)]\n",
        "  plt.plot(x,y)\n",
        "  \n",
        "\n",
        "low_lim,up_lim,avg_over=10,300,20\n",
        "l=avg_relation(low_lim,up_lim,avg_over)\n",
        "plot_relation(l)\n",
        "plot_nlogn(up_lim)\n",
        "plt.show()"
      ],
      "metadata": {
        "colab": {
          "base_uri": "https://localhost:8080/",
          "height": 329
        },
        "id": "pzKCty_Z3_wl",
        "outputId": "a1b32477-87b4-4bd5-8176-cdf382404cac"
      },
      "execution_count": null,
      "outputs": [
        {
          "output_type": "stream",
          "name": "stderr",
          "text": [
            "/usr/local/lib/python3.7/dist-packages/ipykernel_launcher.py:45: RuntimeWarning: divide by zero encountered in log\n",
            "/usr/local/lib/python3.7/dist-packages/ipykernel_launcher.py:45: RuntimeWarning: invalid value encountered in double_scalars\n"
          ]
        },
        {
          "output_type": "display_data",
          "data": {
            "text/plain": [
              "<Figure size 432x288 with 1 Axes>"
            ],
            "image/png": "[encoded data removed]"
          },
          "metadata": {
            "needs_background": "light"
          }
        }
      ]
    },
    {
      "cell_type": "markdown",
      "source": [
        "**Conclusion** : \n",
        "We can get a partial structure of a graph with a nlogn steps long random walk. \n",
        "\n",
        "*(To get a partial structure of graph we don't need to know the exact number of nodes, but just an approximation, bcoz nlogn is also an approximation which becomes better as n tends to infinity)*"
      ],
      "metadata": {
        "id": "tDsmeu3i1uHR"
      }
    },
    {
      "cell_type": "markdown",
      "source": [
        "\n",
        "\n",
        "---\n",
        "\n",
        "\n",
        "# **PageRank**"
      ],
      "metadata": {
        "id": "pMg94Cce4HHq"
      }
    },
    {
      "cell_type": "markdown",
      "source": [
        "---\n",
        "\n",
        "**Method**\n",
        "\n",
        "* randomly go to a node and give it a coin\n",
        "* then randomly takes edges and give coins\n",
        "* do this a huge number of times \n",
        "\n"
      ],
      "metadata": {
        "id": "3XPxCStzemHZ"
      }
    },
    {
      "cell_type": "code",
      "source": [
        "import random as r\n",
        "import networkx as nx\n",
        "import matplotlib.pyplot as plt\n",
        "import time \n",
        "import numpy as np"
      ],
      "metadata": {
        "id": "afp_7_9mQyhj"
      },
      "execution_count": null,
      "outputs": []
    },
    {
      "cell_type": "code",
      "source": [
        "def make_graph(n,init_coins,p=r.uniform(0,1),edge_p=r.uniform(0,1)):\n",
        "  '''returns a directed random graph with n nodes, \n",
        "  and a random probability of having an edge,\n",
        "  and a random probability of that edge being an inward edge,\n",
        "  and each node has an attribute 'coins' initially set to init_coins.'''\n",
        "  g=random_digraph(n,p,edge_p)\n",
        "  for i in range(n):\n",
        "    g.nodes()[i]['coins']=init_coins\n",
        "  return g\n",
        "\n",
        "def random_digraph(n,p,edge_p):\n",
        "  '''returns a directed random graph with n nodes,\n",
        "  and probability of having an edge as p, \n",
        "  and probability of that edge being an inward edge as edge_p.'''\n",
        "  g=nx.DiGraph()\n",
        "  g.add_nodes_from(list(range(n)))\n",
        "  for i in range(n):\n",
        "    for j in range(n):\n",
        "      if i!=j:\n",
        "        if r.uniform(0,1)<=p:\n",
        "          if r.uniform(0,1)>=edge_p: g.add_edge(i,j)\n",
        "          else: g.add_edge(j,i)\n",
        "  return g\n",
        "\n",
        "\n",
        "def sort_by_value(d):\n",
        "  #returns a dictionary sorted in decreasing order of values \n",
        "  dic=dict(sorted(d.items(),key= lambda x:x[1],reverse=True))\n",
        "  return dic\n",
        "\n",
        "\n",
        "def get_sink_nodes(g):\n",
        "  ''' returns a list of sink nodes, that is nodes with outdegree=0'''\n",
        "  l=[]\n",
        "  for i in g.nodes():\n",
        "    if len(g.out_edges(i))==0: l+=[i]\n",
        "  return l\n",
        "\n",
        "def avg_outdegree(g):\n",
        "  l=get_sink_nodes(g)\n",
        "  s=0\n",
        "  for i in g.nodes():\n",
        "    if i not in l:\n",
        "      s+=len(g.out_edges(i))\n",
        "  return s//(len(g.nodes())-len(l))\n"
      ],
      "metadata": {
        "id": "BYywyw7xNGzM"
      },
      "execution_count": null,
      "outputs": []
    },
    {
      "cell_type": "code",
      "source": [
        "def random_walk(g):\n",
        "  #takes a 3*(10**5) steps long random walk while handing out coins\n",
        "  rnode=r.choice(list(g.nodes()))\n",
        "  g.nodes()[rnode]['coins']+=1\n",
        "  for i in range(10**7):\n",
        "    if g.out_edges(rnode)==[]:\n",
        "      rnode=r.choice(list(g.nodes()))\n",
        "    else : \n",
        "      rnode=r.choice(list(g.out_edges(rnode)))[1]\n",
        "    g.nodes()[rnode]['coins']+=1\n",
        "\n",
        "G=make_graph(n=100,init_coins=0,p=0.6,edge_p=0.8)\n",
        "if get_sink_nodes(G)!=[]: print('sink') \n",
        "\n",
        "random_walk(G)\n",
        "\n",
        "dic1=nx.get_node_attributes(G,'coins')\n",
        "d1=sort_by_value(dic1)\n",
        "\n",
        "dic2=nx.pagerank(G)\n",
        "d2=sort_by_value(dic2)\n",
        "\n",
        "print(d1,d2,sep='\\n')\n",
        "print(d1.keys(),d2.keys(),sep='\\n')\n",
        "#nx.draw_circular(G,with_labels=True)"
      ],
      "metadata": {
        "colab": {
          "base_uri": "https://localhost:8080/"
        },
        "id": "TmGBQqkkgD44",
        "outputId": "70f34aff-7539-48f4-bcfa-24279db7008f"
      },
      "execution_count": null,
      "outputs": [
        {
          "output_type": "stream",
          "name": "stdout",
          "text": [
            "{0: 114751, 86: 114196, 95: 111898, 56: 111573, 51: 111537, 31: 110962, 78: 110878, 52: 110828, 67: 110806, 4: 110804, 2: 110724, 36: 110277, 93: 110154, 76: 109774, 42: 109686, 85: 109569, 26: 109198, 9: 109109, 30: 108803, 8: 108778, 94: 108306, 82: 107549, 80: 107402, 17: 107066, 68: 106734, 25: 106555, 84: 106545, 3: 106419, 66: 106083, 50: 105612, 96: 105448, 12: 105255, 23: 104612, 98: 104547, 13: 104400, 46: 104087, 90: 104065, 70: 103415, 55: 103066, 21: 102971, 22: 102710, 59: 102533, 92: 102333, 38: 101862, 33: 101555, 65: 101500, 19: 100993, 71: 100908, 64: 100607, 20: 100578, 5: 100443, 15: 100364, 39: 100241, 69: 100232, 49: 99982, 32: 99916, 63: 99743, 35: 99137, 88: 98931, 18: 98832, 28: 98526, 7: 98002, 47: 97172, 6: 97054, 60: 96438, 10: 96386, 83: 96323, 75: 96290, 61: 96065, 29: 96060, 53: 95612, 43: 95111, 99: 95074, 57: 94981, 97: 94470, 87: 94460, 81: 94419, 16: 93922, 45: 93607, 1: 93583, 11: 92885, 40: 92265, 62: 91897, 27: 91754, 74: 90715, 34: 90570, 58: 89621, 24: 89344, 41: 89027, 79: 89017, 91: 88893, 37: 87557, 77: 87347, 72: 86968, 48: 86877, 44: 85449, 14: 84733, 73: 80871, 54: 80039, 89: 72775}\n",
            "{0: 0.011236670529735355, 86: 0.011215169597218522, 95: 0.011055161161415136, 51: 0.011003458461278736, 56: 0.010990476886442923, 31: 0.010956817121536948, 52: 0.01091982748002565, 78: 0.010914549699299433, 67: 0.010906288345311276, 4: 0.01090017417145604, 93: 0.010875828621232887, 2: 0.010862395566476795, 36: 0.010860131159594699, 42: 0.010825247369980494, 85: 0.010817186047344086, 76: 0.010807219455377706, 26: 0.010790986625905136, 8: 0.010769862049314204, 30: 0.010764295194405029, 9: 0.010752711785466898, 94: 0.010738930690026845, 82: 0.010648302829125407, 80: 0.01062059938586558, 68: 0.010593253733970092, 25: 0.010580910335882883, 17: 0.01057592102133251, 3: 0.01052905245569914, 84: 0.010522079674094874, 66: 0.010508844013165057, 12: 0.010486727383117464, 50: 0.010472276297165566, 96: 0.010438386115203785, 23: 0.01036844958905538, 98: 0.01036095183086993, 90: 0.010356449719180916, 46: 0.010344165239162852, 70: 0.010320090275323691, 13: 0.010312704749656903, 21: 0.010264171892760165, 22: 0.010236514328430507, 92: 0.01022210922519341, 55: 0.010221493643743675, 59: 0.010190386184071268, 38: 0.010171309193754087, 33: 0.01014121546465434, 65: 0.010097617304862878, 64: 0.010080678860907598, 71: 0.010069563751106158, 20: 0.010059251819278848, 19: 0.010058020439028358, 69: 0.010053312912845171, 39: 0.010038668825576795, 5: 0.0100202304811489, 49: 0.010010616361031694, 15: 0.009992537481412269, 63: 0.009990608872026772, 32: 0.0099847672717668, 88: 0.009961655168175754, 35: 0.009951715947026863, 18: 0.009896250852648407, 7: 0.009877605928962082, 28: 0.009858515783958506, 47: 0.009787641555262962, 6: 0.009765230772974707, 60: 0.00973921523179743, 75: 0.009682903729449247, 83: 0.009681723686111875, 10: 0.009664632383119834, 29: 0.009661692741470244, 61: 0.009650515246793414, 53: 0.009606745148735501, 43: 0.009589679802348925, 99: 0.009581103468884956, 97: 0.00955720032000081, 57: 0.0095408285879407, 87: 0.00953281541710661, 16: 0.009487805700518874, 81: 0.00947105330843812, 45: 0.009454994027465982, 1: 0.009439150738150343, 11: 0.009354362493818871, 40: 0.009339995407690486, 62: 0.009337748832663108, 27: 0.0093225194963023, 34: 0.009206993248223008, 74: 0.009193745316129884, 58: 0.009155253272861328, 24: 0.0090831824233448, 79: 0.009068994370516663, 41: 0.00904612764964995, 91: 0.008985581297462254, 37: 0.008980740542999075, 77: 0.008941502745258222, 72: 0.008928726123029687, 48: 0.008875921502895708, 44: 0.00876813727852007, 14: 0.008689137029183147, 73: 0.008406274972460876, 54: 0.008305906652124382, 89: 0.007662846817207282}\n",
            "dict_keys([0, 86, 95, 56, 51, 31, 78, 52, 67, 4, 2, 36, 93, 76, 42, 85, 26, 9, 30, 8, 94, 82, 80, 17, 68, 25, 84, 3, 66, 50, 96, 12, 23, 98, 13, 46, 90, 70, 55, 21, 22, 59, 92, 38, 33, 65, 19, 71, 64, 20, 5, 15, 39, 69, 49, 32, 63, 35, 88, 18, 28, 7, 47, 6, 60, 10, 83, 75, 61, 29, 53, 43, 99, 57, 97, 87, 81, 16, 45, 1, 11, 40, 62, 27, 74, 34, 58, 24, 41, 79, 91, 37, 77, 72, 48, 44, 14, 73, 54, 89])\n",
            "dict_keys([0, 86, 95, 51, 56, 31, 52, 78, 67, 4, 93, 2, 36, 42, 85, 76, 26, 8, 30, 9, 94, 82, 80, 68, 25, 17, 3, 84, 66, 12, 50, 96, 23, 98, 90, 46, 70, 13, 21, 22, 92, 55, 59, 38, 33, 65, 64, 71, 20, 19, 69, 39, 5, 49, 15, 63, 32, 88, 35, 18, 7, 28, 47, 6, 60, 75, 83, 10, 29, 61, 53, 43, 99, 97, 57, 87, 16, 81, 45, 1, 11, 40, 62, 27, 34, 74, 58, 24, 79, 41, 91, 37, 77, 72, 48, 44, 14, 73, 54, 89])\n"
          ]
        }
      ]
    },
    {
      "cell_type": "markdown",
      "source": [
        "#relation between in degree and pagerank values"
      ],
      "metadata": {
        "id": "hxoFpKE8YD_B"
      }
    },
    {
      "cell_type": "code",
      "source": [
        "def indeg_and_pr(g):\n",
        "  indeg=dict(G.in_degree())\n",
        "  print(indeg)\n",
        "  pr=nx.pagerank(G)\n",
        "  pr_values=[]\n",
        "  for i in indeg:\n",
        "    pr_values+=[pr[i]]\n",
        "  print(indeg.values(),pr_values)\n",
        "  plt.plot(list(indeg.values()),pr_values,'bo')\n",
        "  plt.xlabel('Indegree of nodes')\n",
        "  plt.ylabel('PageRank values of nodes')\n",
        "  plt.show()\n",
        "\n",
        "indeg_and_pr(G)"
      ],
      "metadata": {
        "colab": {
          "base_uri": "https://localhost:8080/",
          "height": 334
        },
        "id": "io3cspMJYC9a",
        "outputId": "ee175750-257b-4150-c8d6-ab94edcb92cf"
      },
      "execution_count": null,
      "outputs": [
        {
          "output_type": "stream",
          "name": "stdout",
          "text": [
            "{0: 61, 1: 50, 2: 59, 3: 56, 4: 59, 5: 53, 6: 52, 7: 53, 8: 58, 9: 57, 10: 51, 11: 49, 12: 57, 13: 55, 14: 45, 15: 53, 16: 50, 17: 56, 18: 53, 19: 54, 20: 54, 21: 54, 22: 55, 23: 55, 24: 48, 25: 56, 26: 59, 27: 51, 28: 53, 29: 52, 30: 58, 31: 59, 32: 54, 33: 54, 34: 49, 35: 55, 36: 59, 37: 47, 38: 54, 39: 54, 40: 49, 41: 48, 42: 58, 43: 51, 44: 46, 45: 50, 46: 55, 47: 53, 48: 46, 49: 53, 50: 56, 51: 60, 52: 59, 53: 50, 54: 43, 55: 55, 56: 59, 57: 50, 58: 49, 59: 54, 60: 52, 61: 51, 62: 50, 63: 53, 64: 53, 65: 54, 66: 56, 67: 59, 68: 57, 69: 54, 70: 56, 71: 54, 72: 47, 73: 44, 74: 48, 75: 52, 76: 58, 77: 47, 78: 59, 79: 47, 80: 57, 81: 51, 82: 57, 83: 51, 84: 56, 85: 59, 86: 62, 87: 51, 88: 54, 89: 39, 90: 56, 91: 46, 92: 55, 93: 59, 94: 58, 95: 60, 96: 55, 97: 51, 98: 55, 99: 50}\n",
            "dict_values([61, 50, 59, 56, 59, 53, 52, 53, 58, 57, 51, 49, 57, 55, 45, 53, 50, 56, 53, 54, 54, 54, 55, 55, 48, 56, 59, 51, 53, 52, 58, 59, 54, 54, 49, 55, 59, 47, 54, 54, 49, 48, 58, 51, 46, 50, 55, 53, 46, 53, 56, 60, 59, 50, 43, 55, 59, 50, 49, 54, 52, 51, 50, 53, 53, 54, 56, 59, 57, 54, 56, 54, 47, 44, 48, 52, 58, 47, 59, 47, 57, 51, 57, 51, 56, 59, 62, 51, 54, 39, 56, 46, 55, 59, 58, 60, 55, 51, 55, 50]) [0.011236670529735355, 0.009439150738150343, 0.010862395566476795, 0.01052905245569914, 0.01090017417145604, 0.0100202304811489, 0.009765230772974707, 0.009877605928962082, 0.010769862049314204, 0.010752711785466898, 0.009664632383119834, 0.009354362493818871, 0.010486727383117464, 0.010312704749656903, 0.008689137029183147, 0.009992537481412269, 0.009487805700518874, 0.01057592102133251, 0.009896250852648407, 0.010058020439028358, 0.010059251819278848, 0.010264171892760165, 0.010236514328430507, 0.01036844958905538, 0.0090831824233448, 0.010580910335882883, 0.010790986625905136, 0.0093225194963023, 0.009858515783958506, 0.009661692741470244, 0.010764295194405029, 0.010956817121536948, 0.0099847672717668, 0.01014121546465434, 0.009206993248223008, 0.009951715947026863, 0.010860131159594699, 0.008980740542999075, 0.010171309193754087, 0.010038668825576795, 0.009339995407690486, 0.00904612764964995, 0.010825247369980494, 0.009589679802348925, 0.00876813727852007, 0.009454994027465982, 0.010344165239162852, 0.009787641555262962, 0.008875921502895708, 0.010010616361031694, 0.010472276297165566, 0.011003458461278736, 0.01091982748002565, 0.009606745148735501, 0.008305906652124382, 0.010221493643743675, 0.010990476886442923, 0.0095408285879407, 0.009155253272861328, 0.010190386184071268, 0.00973921523179743, 0.009650515246793414, 0.009337748832663108, 0.009990608872026772, 0.010080678860907598, 0.010097617304862878, 0.010508844013165057, 0.010906288345311276, 0.010593253733970092, 0.010053312912845171, 0.010320090275323691, 0.010069563751106158, 0.008928726123029687, 0.008406274972460876, 0.009193745316129884, 0.009682903729449247, 0.010807219455377706, 0.008941502745258222, 0.010914549699299433, 0.009068994370516663, 0.01062059938586558, 0.00947105330843812, 0.010648302829125407, 0.009681723686111875, 0.010522079674094874, 0.010817186047344086, 0.011215169597218522, 0.00953281541710661, 0.009961655168175754, 0.007662846817207282, 0.010356449719180916, 0.008985581297462254, 0.01022210922519341, 0.010875828621232887, 0.010738930690026845, 0.011055161161415136, 0.010438386115203785, 0.00955720032000081, 0.01036095183086993, 0.009581103468884956]\n"
          ]
        },
        {
          "output_type": "display_data",
          "data": {
            "text/plain": [
              "<Figure size 432x288 with 1 Axes>"
            ],
            "image/png": "[encoded data removed]"
          },
          "metadata": {
            "needs_background": "light"
          }
        }
      ]
    },
    {
      "cell_type": "markdown",
      "source": [
        "degree and page rank values are not corelated for ciatation network in the video.\n",
        "(but not in the case above)"
      ],
      "metadata": {
        "id": "v94s9pXDS-2J"
      }
    }
  ]
}