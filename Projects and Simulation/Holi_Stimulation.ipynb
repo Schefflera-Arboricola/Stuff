{
  "nbformat": 4,
  "nbformat_minor": 0,
  "metadata": {
    "colab": {
      "name": "Holi_Stimulation.ipynb",
      "provenance": [],
      "collapsed_sections": []
    },
    "kernelspec": {
      "name": "python3",
      "display_name": "Python 3"
    },
    "language_info": {
      "name": "python"
    }
  },
  "cells": [
    {
      "cell_type": "markdown",
      "source": [
        "Holi, the festival of colours, is on its way. A bunch of kids are planning to play a water balloon game on Holi. In this game, a kid’s name is picked at random from a bowl of chits that has the names of everyone, and then everyone attacks the selected kid with one water balloon each. They want everyone’s name to be picked to ensure that the game is fair. They also want to know how many water balloons they should arrange beforehand."
      ],
      "metadata": {
        "id": "63gqDBNpz1kG"
      }
    },
    {
      "cell_type": "markdown",
      "source": [
        "# Water Balloon Game \n",
        "\n",
        "**Game** : One kid picked at random and is attacked by water balloons by all other n-1 kids.(1 balloon per kid)"
      ],
      "metadata": {
        "id": "UpJ6tijv2NRJ"
      }
    },
    {
      "cell_type": "markdown",
      "source": [
        "# Computation\n",
        "\n"
      ],
      "metadata": {
        "id": "a6W6lrepNLkp"
      }
    },
    {
      "cell_type": "markdown",
      "source": [
        "**We need to compute the following:**\n",
        "\n",
        "1.   Expected number of kids attacked(or unattacked) out of 'n' kids after playing the game 'm' times.   \n",
        "2.  Expected number of times the game has to be played so that all 'n' kids get attacked at least once, hence the expected number of water balloons needed beforehand.\n"
      ],
      "metadata": {
        "id": "6e3lK6AXOCj9"
      }
    },
    {
      "cell_type": "markdown",
      "source": [
        "**1. Expected number of kids attacked(or unattacked) out of 'n' kids after playing the game 'm' times.**\n",
        "\n",
        "Probability that a kid will get attacked in first game = $$\\frac{1}{n}$$\n",
        "\n",
        "Probability that a kid will not get attacked in first game =$$\\frac{n-1}{n}$$\n",
        "\n",
        "Probability that the kid will not get attacked in second game also =$$\\left(\\frac{n-1}{n}\\cdot\\frac{n-1}{n}\\right)$$\n",
        "\n",
        "Probability that the kid will not get attacked in 'm'th game also =$$\\left(\\frac{n-1}{n}\\right)^{m}$$$$=\\left(1-\\frac{1}{n}\\right)^{m}$$\n",
        "\n",
        "Let, \\begin{align*}\n",
        "{m}&={k.n}\t\n",
        "\\end{align*}\n",
        "\n",
        "\\begin{align*}\n",
        "{\\left(1-\\frac{1}{n}\\right)^{nk}}&={\\left(\\left(1-\\frac{1}{n}\\right)^{n}\\right)^{k}}\t\n",
        "\\end{align*}\n",
        "\n",
        "We know when $n\\to\\infty$ ,  $\\left(1-\\frac{1}{n}\\right)^{n}\\to\\frac{1}{e}$, \n",
        "Therefore $\\left(1-\\frac{1}{n}\\right)^{kn}\\to\\frac{1}{e^{k}}$\n",
        "\n",
        "> \n",
        "If we do this for 'n' kids, then we have expected number of unattacked kids = $\\frac{n}{e^{k}}$\n",
        ">\n",
        "**Therefore expected number of attacked kids after 'm' games = $n-\\frac{n}{e^{\\frac{m}{n}}}$**\n"
      ],
      "metadata": {
        "id": "i37Mo9Y3abqf"
      }
    },
    {
      "cell_type": "markdown",
      "source": [
        "\n",
        "\n",
        "```\n",
        "\n",
        "```\n",
        "\n"
      ],
      "metadata": {
        "id": "qVKBjv6V2Reo"
      }
    },
    {
      "cell_type": "markdown",
      "source": [
        "**2. Expected number of times the game has to be played so that all 'n' kids get attacked at least once, hence the expected number of water balloons needed beforehand.**\n",
        "\n",
        "Expected number of games before we attack first unique kid = $\\frac{1}{\\frac{n}{n}}$\n",
        "\n",
        "Expected number of games before we attack second unique kid = $\\frac{1}{\\frac{n-1}{n}}$\n",
        "\n",
        "Expected number of games before we attack 'n' th unique kid = $\\frac{1}{\\frac{1}{n}}$\n",
        "\n",
        "Expected number of game to be played so that all 'n' kids get attacked = $\\frac{n}{n}+\\frac{n}{n-1}.....\\frac{n}{1}$= $n\\left(\\frac{1}{n}+\\frac{1}{n-1}.....+\\frac{1}{1}\\right)$\n",
        "\n",
        "We know, $1+\\frac{1}{2}+\\frac{1}{3}......+\\frac{1}{n}=\\ln\\left(n+1\\right)+\\gamma$\n",
        "\n",
        "So, $$n\\cdot\\left(1+\\frac{1}{2}+\\frac{1}{3}......+\\frac{1}{n}\\right)=n\\cdot\\left(\\ln\\left(n+1\\right)+\\gamma\\right)$$\n",
        "\n",
        "Therefore, \n",
        "> \n",
        "**Expected number of times the game has to be played so that all 'n' kids get attacked at least once =$$n\\cdot\\left(\\ln\\left(n+1\\right)+\\gamma\\right)$$**\n",
        "\n",
        "**Expected number of water balloons needed = $$n\\cdot\\left(\\ln\\left(n+1\\right)+\\gamma\\right)\\cdot\\left(n-1\\right)$$**"
      ],
      "metadata": {
        "id": "_VpBXK5Tuo9M"
      }
    },
    {
      "cell_type": "markdown",
      "source": [
        "#Simulation "
      ],
      "metadata": {
        "id": "fiAg4x1_NHAb"
      }
    },
    {
      "cell_type": "markdown",
      "source": [
        "**1. Below is the simulation water balloon game when there are 'n' kids and 'm' times a kid is picked at random to attack**"
      ],
      "metadata": {
        "id": "iGwEKPfM2yLB"
      }
    },
    {
      "cell_type": "code",
      "source": [
        "import random\n",
        "n=10**5    #number of kids\n",
        "m=10**4    #number of times game is played\n",
        "l=list(range(n))\n",
        "record={} #each kids record of number of attacks\n",
        "for i in l:\n",
        "  record[i]=0\n",
        "for i in range(m):\n",
        "  r=random.choice(l) #randomly choosing a kid\n",
        "  record[r]+=1\n",
        "#print(record)\n",
        "\n",
        "l=list(record.values())\n",
        "l.sort(reverse=True)\n",
        "d={}\n",
        "for i in l:\n",
        "  if i not in d: d[i]=l.count(i)\n",
        "print()\n",
        "print(\"Attacks\",\"number of kids\")\n",
        "for m in d:\n",
        "  print(m,\"\\t\",d[m])"
      ],
      "metadata": {
        "colab": {
          "base_uri": "https://localhost:8080/"
        },
        "id": "2NYVhF_d3L8R",
        "outputId": "5e97d1aa-7205-4da8-e806-d9048b26ba36"
      },
      "execution_count": 1,
      "outputs": [
        {
          "output_type": "stream",
          "name": "stdout",
          "text": [
            "\n",
            "Attacks number of kids\n",
            "4 \t 1\n",
            "3 \t 13\n",
            "2 \t 462\n",
            "1 \t 9033\n",
            "0 \t 90491\n"
          ]
        }
      ]
    },
    {
      "cell_type": "markdown",
      "source": [
        "**2. How many times should the game be played so that everyone gets attacked once?**"
      ],
      "metadata": {
        "id": "tSH3v5M8E9Tz"
      }
    },
    {
      "cell_type": "code",
      "execution_count": 2,
      "metadata": {
        "colab": {
          "base_uri": "https://localhost:8080/"
        },
        "id": "6tMDwG_s5Spb",
        "outputId": "22a1ba54-84b1-46d5-a12f-fd2956371c6c"
      },
      "outputs": [
        {
          "output_type": "stream",
          "name": "stdout",
          "text": [
            "Expected number of games to be played :  1612943\n",
            "Expected number of balloons needed :  161292687057\n"
          ]
        }
      ],
      "source": [
        "import random\n",
        "n=10**5    #number of kids\n",
        "l=list(range(n))\n",
        "c=0 #game counter\n",
        "l1=l.copy()\n",
        "while l!=[]:\n",
        "  r=random.choice(l1)  #randomly choosing a kid\n",
        "  if r in l:\n",
        "    del l[l.index(r)]\n",
        "  c+=1\n",
        "print(\"Expected number of games to be played : \",c)\n",
        "print(\"Expected number of balloons needed : \",c*(n-1))\n"
      ]
    },
    {
      "cell_type": "markdown",
      "source": [
        "# Analysis\n",
        "\n"
      ],
      "metadata": {
        "id": "VGO83WVPHaji"
      }
    },
    {
      "cell_type": "markdown",
      "source": [
        "**1. Water balloon game when there are 'n' kids and 'm' times a kid is picked at random to attack**\n",
        "\n",
        "Here, n=10^5 and m=10^4 \n",
        "\n",
        "So, according to the computation above the expected number of attacked kids after 'm' games = $n-\\frac{n}{e^{\\frac{m}{n}}}$ = $n-\\frac{10^{5}}{e^{0.1}}$\n",
        "\n",
        "\n",
        "\n"
      ],
      "metadata": {
        "id": "TiD04r_yNnCE"
      }
    },
    {
      "cell_type": "code",
      "source": [
        "import math\n",
        "n=10**5\n",
        "exp=int(n-(n/math.exp(1/10)))\n",
        "acc=n-d[0]\n",
        "print(\"Expected number of attacked kids : \",exp)\n",
        "print(\"Actual number of attacked kids : \",acc)\n",
        "print(\"Error percentage : \",(abs(exp-acc)/exp)*100,\"%\")"
      ],
      "metadata": {
        "colab": {
          "base_uri": "https://localhost:8080/"
        },
        "id": "MWg-yqIAB8s5",
        "outputId": "74fd3724-0c34-409a-ccba-be6e085ae8fc"
      },
      "execution_count": 3,
      "outputs": [
        {
          "output_type": "stream",
          "name": "stdout",
          "text": [
            "Expected number of attacked kids :  9516\n",
            "Actual number of attacked kids :  9509\n",
            "Error percentage :  0.0735603194619588 %\n"
          ]
        }
      ]
    },
    {
      "cell_type": "markdown",
      "source": [
        "**2. Expected number of times the game has to be played so that all 'n' kids get attacked at least once =  $$n\\cdot\\left(\\ln\\left(n+1\\right)+\\gamma\\right)$$**\n",
        "\n",
        "here, n=10^5"
      ],
      "metadata": {
        "id": "noU7LQwn43Uj"
      }
    },
    {
      "cell_type": "code",
      "source": [
        "import math \n",
        "gamma=0.57721\n",
        "n=10**5\n",
        "exp=int(n*(gamma+(math.log(n+1))))\n",
        "acc=c\n",
        "print(\"Expected number of games played : \",exp)\n",
        "print(\"Actual number of games played : \", acc)\n",
        "print(\"Error precentage  : \",(abs(exp-acc)/exp)*100,\"%\")\n",
        "print()\n",
        "\n",
        "exp=int((n-1)*n*(gamma+(math.log(n+1))))\n",
        "acc=c*(n-1)\n",
        "print(\"Expected number of balloons : \",exp)\n",
        "print(\"Actual number of balloons : \", acc)\n",
        "print(\"Error precentage : \",(abs(exp-acc))*100/exp,\"%\")"
      ],
      "metadata": {
        "colab": {
          "base_uri": "https://localhost:8080/"
        },
        "id": "clEHZlHm5RQL",
        "outputId": "728e6e9e-43ac-4e3b-9cca-8412bb2c0381"
      },
      "execution_count": 4,
      "outputs": [
        {
          "output_type": "stream",
          "name": "stdout",
          "text": [
            "Expected number of games played :  1209014\n",
            "Actual number of games played :  1612943\n",
            "Error precentage  :  33.40978681801865 %\n",
            "\n",
            "Expected number of balloons :  120900245634\n",
            "Actual number of balloons :  161292687057\n",
            "Error precentage :  33.409726515593356 %\n"
          ]
        }
      ]
    }
  ]
}