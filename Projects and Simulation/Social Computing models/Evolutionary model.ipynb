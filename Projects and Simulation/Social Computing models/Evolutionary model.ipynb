{
  "nbformat": 4,
  "nbformat_minor": 0,
  "metadata": {
    "colab": {
      "name": "week 4 : social networks.ipynb",
      "provenance": [],
      "collapsed_sections": []
    },
    "kernelspec": {
      "name": "python3",
      "display_name": "Python 3"
    },
    "language_info": {
      "name": "python"
    }
  },
  "cells": [
    {
      "cell_type": "markdown",
      "source": [
        "# Week 4\n",
        "\n",
        "\n",
        "Assumption:- No friendships break, only new friendships are added as time passes.\n"
      ],
      "metadata": {
        "id": "4eYpTbNReksa"
      }
    },
    {
      "cell_type": "code",
      "source": [
        "import random as r\n",
        "import networkx as nx\n",
        "import matplotlib.pyplot as plt\n",
        "import time"
      ],
      "metadata": {
        "id": "7Hi08msYEnt2"
      },
      "execution_count": null,
      "outputs": []
    },
    {
      "cell_type": "code",
      "source": [
        "def create_graph(n,f):\n",
        "  #creates a graph with n \"person\" nodes and \"focii\" nodes from list F\n",
        "  #with every \"person\" assigned a \"bmi\" and every \"focii\" assigned a \"name\"\n",
        "  #and initially every person is connected to a focus node uar\n",
        "  g=nx.Graph()\n",
        "  g.add_nodes_from(range(1,n+1))\n",
        "  g=assign_bmi(g)\n",
        "  g=add_focii_nodes(g,n,f)\n",
        "  g=add_focii_edges(g,n,f)\n",
        "  return g\n",
        "\n",
        "def assign_bmi(g):\n",
        "  #assigns random bmi to each node and defines type of each node as \"person\"\n",
        "  for i in g.nodes():   #assigning attributes \"name\"(i.e. bmi) and \"type\" to each node \n",
        "    g.nodes()[i][\"name\"]=round(r.uniform(15,40),2)\n",
        "    g.nodes()[i][\"type\"]=\"person\"\n",
        "  return g\n",
        "\n",
        "def add_focii_nodes(g,n,f):\n",
        "  #adding focii nodes with labels from list f\n",
        "  j=0\n",
        "  for i in range(n+1,n+1+len(f)):   #assigning attributes \"name\"(i.e. focus name) and \"type\"(i.e focus) to each node \n",
        "    g.add_node(i)\n",
        "    g.nodes()[i][\"name\"]=f[j]\n",
        "    g.nodes()[i][\"type\"]=\"focus\"\n",
        "    j+=1\n",
        "  return g\n",
        "\n",
        "def add_focii_edges(g,n,f):\n",
        "  #initially every \"person\" node is connected to a focus node at random\n",
        "  for i in g.nodes():\n",
        "    if g.nodes()[i][\"type\"]==\"person\":\n",
        "      s=list(range(n+1,n+1+len(f)))\n",
        "      rf=r.choice(s)\n",
        "      g.add_edge(i,rf)\n",
        "  return g\n",
        "\n",
        "F=[\"gym\",\"eatout\",\"mall\",\"club\",\"park\"]\n",
        "G=create_graph(100,F)\n",
        "\n"
      ],
      "metadata": {
        "id": "fNg2CQ8Hv5jF"
      },
      "execution_count": null,
      "outputs": []
    },
    {
      "cell_type": "code",
      "source": [
        "def visualize(g,t):\n",
        "  #shows the graph g with labels (indicating \"name\" bmi or focus name),\n",
        "  #node size (indicating relative bmi), node color(indicating focii, under wt.,normal-over wt. and obese)\n",
        "  time.sleep(1)\n",
        "  nx.draw(g,labels=get_labels(g),node_size=get_nsize(g),node_color=get_color(g))\n",
        "  plt.savefig(\"evolution.jpg\")\n",
        "  plt.clf()\n",
        "  plt.cla()\n",
        "  nx.write_gml(g,\"evolution\"+str(t)+\".gml\")\n",
        "\n",
        "def get_labels(g):\n",
        "  #return a dictionary with (key,values) pair as (node,bmi of the node)\n",
        "  d={}\n",
        "  for i in g.nodes():\n",
        "    d[i]=g.nodes()[i][\"name\"]\n",
        "  return d\n",
        "\n",
        "def get_nsize(g):\n",
        "  #gives a list of sizes for all nodes\n",
        "  #for \"person\" node size=25*bmi_of_node\n",
        "  #for \"focus\" node size=1500 \n",
        "  l=[]\n",
        "  for i in g.nodes():\n",
        "    if g.nodes()[i][\"type\"]==\"person\":\n",
        "      l.append(g.nodes()[i][\"name\"]*25)\n",
        "    else:  l.append(1500)\n",
        "  return l\n",
        "\n",
        "def get_color(g):\n",
        "  #gives colours for each node of graph\n",
        "  #red : focii, blue: obese, \n",
        "  #green: normal to over weight, yellow: under weight\n",
        "  c=[]\n",
        "  for i in g.nodes():\n",
        "    if g.nodes()[i][\"type\"]==\"focus\": c.append(\"red\")\n",
        "    else: \n",
        "      if g.nodes()[i][\"name\"]<=18.5: c.append(\"yellow\")  #under weight\n",
        "      elif  g.nodes()[i][\"name\"]<=29.9: c.append(\"green\") #normal to over weight\n",
        "      else: c.append(\"blue\") #obese\n",
        "  return c\n",
        "\n",
        "visualize(G,0)"
      ],
      "metadata": {
        "colab": {
          "base_uri": "https://localhost:8080/",
          "height": 269
        },
        "id": "8H2ng77vvxYd",
        "outputId": "15a51782-8023-4c44-bb62-423e6c80d462"
      },
      "execution_count": null,
      "outputs": [
        {
          "output_type": "display_data",
          "data": {
            "image/png": "[encoded data removed]",
            "text/plain": [
              "<Figure size 432x288 with 1 Axes>"
            ]
          },
          "metadata": {}
        }
      ]
    },
    {
      "cell_type": "markdown",
      "source": [
        "**Homophily**\n",
        "\n",
        "P(edge b/w X and Y nodes) is proportional to $$\\frac{1}{\\left|bmi\\left(X\\right)-bmi\\left(Y\\right)\\right|+1000}$$\n",
        "\n",
        "\n",
        "---\n",
        "\n",
        "\n",
        "\"+1000\" ensures that the fraction never becomes infinity(if bmi(X)==bmi(Y)) and it also reduces the P (which further prevents sudden \"edge addition\" rush).\n",
        "If we increase 1000 to 5000 the probability of having an edge between X and Y decreases even further.\n",
        "\n",
        "\n",
        "---\n",
        "\n",
        "In lecture, homophily was quantified differently(i.e. $$1-\\frac{actual \\,number \\,of \\,edges \\,between \\,2 \\,groups}{expected \\,number \\,of \\,edges \\,between \\,the \\,2 \\,groups}$$), but this quantification captures the idea of homophily equally well\n"
      ],
      "metadata": {
        "id": "TTF_ki2QjMDa"
      }
    },
    {
      "cell_type": "code",
      "source": [
        "def homophily(g):\n",
        "  for i in g.nodes():\n",
        "    if g.nodes()[i][\"type\"]==\"person\":\n",
        "      for j in g.nodes():\n",
        "        if g.nodes()[j][\"type\"]==\"person\" and i!=j:\n",
        "          diff=abs(g.nodes()[i][\"name\"]-g.nodes()[j][\"name\"])\n",
        "          prob=1/(diff+1000)\n",
        "          x=r.uniform(0,1)\n",
        "          if x<prob: \n",
        "            g.add_edge(i,j)"
      ],
      "metadata": {
        "id": "d4J6CO_MjK12"
      },
      "execution_count": null,
      "outputs": []
    },
    {
      "cell_type": "markdown",
      "source": [
        "**Closures** \n",
        "1. triadic\n",
        "2. focus\n",
        "3. membership"
      ],
      "metadata": {
        "id": "22MaQVgfDoMO"
      }
    },
    {
      "cell_type": "code",
      "source": [
        "def closure(g):\n",
        "  l=[]\n",
        "  for i in g.nodes():\n",
        "    for j in g.nodes():\n",
        "        if (g.nodes()[j][\"type\"]==\"person\" or g.nodes()[i][\"type\"]==\"person\") and i!=j:\n",
        "          k=cmn(i,j,g)\n",
        "          prob=1-((1-0.1)**k)\n",
        "          t=[i,j,prob]\n",
        "          l.append(t)\n",
        "  \n",
        "  for i in l:\n",
        "    x=r.uniform(0,1)\n",
        "    if x<i[-1]: \n",
        "      g.add_edge(i[0],i[1])\n",
        "\n",
        "def cmn(i,j,g):\n",
        "  li,lj=set(g.neighbors(i)),set(g.neighbors(j))\n",
        "  return len(li &lj)\n"
      ],
      "metadata": {
        "id": "esZxkTTNDhzZ"
      },
      "execution_count": null,
      "outputs": []
    },
    {
      "cell_type": "markdown",
      "source": [
        "**Social influence**"
      ],
      "metadata": {
        "id": "oMJTsh2NHmrx"
      }
    },
    {
      "cell_type": "code",
      "source": [
        "def social_influence(g):\n",
        "  for i in g.nodes():\n",
        "    if g.nodes()[i][\"name\"]==\"eatout\":\n",
        "        for j in g.neighbors(i):\n",
        "          if g.nodes()[j][\"name\"]<39: g.nodes()[j][\"name\"]+=1\n",
        "    if g.nodes()[i][\"name\"]==\"gym\":\n",
        "        for j in g.neighbors(i):\n",
        "          if g.nodes()[j][\"name\"]>15: g.nodes()[j][\"name\"]-=1\n",
        "\n"
      ],
      "metadata": {
        "id": "Ip_cLJAZHr3T"
      },
      "execution_count": null,
      "outputs": []
    },
    {
      "cell_type": "code",
      "source": [
        "for i in range(10):\n",
        "  homophily(G)\n",
        "  closure(G)\n",
        "  social_influence(G)\n",
        "  visualize(G,i+1)"
      ],
      "metadata": {
        "colab": {
          "base_uri": "https://localhost:8080/",
          "height": 269
        },
        "id": "iX4OLKYEL2CN",
        "outputId": "30d0199b-0e56-477a-ca74-096e98617ca2"
      },
      "execution_count": null,
      "outputs": [
        {
          "output_type": "display_data",
          "data": {
            "image/png": "[encoded data removed]",
            "text/plain": [
              "<Figure size 432x288 with 1 Axes>"
            ]
          },
          "metadata": {}
        }
      ]
    },
    {
      "cell_type": "markdown",
      "source": [
        "How the number of obese people and density change during the course of 10 units of time?\n"
      ],
      "metadata": {
        "id": "RIgr-3k4NRr0"
      }
    },
    {
      "cell_type": "code",
      "source": [
        "def density(g):\n",
        "  x,y=[],[]\n",
        "  for i in range(11):\n",
        "    g=nx.read_gml(\"evolution\"+str(i)+\".gml\")\n",
        "    x+=[i]\n",
        "    y+=[nx.density(g)]\n",
        "  plt.xlabel(\"Time\")\n",
        "  plt.ylabel(\"Density\")\n",
        "  plt.title(\"Change in density\")\n",
        "  plt.plot(x,y)\n",
        "  plt.show()\n",
        "\n",
        "density(G)\n",
        "\n",
        "def obesity(g):\n",
        "  x,y=[],[]\n",
        "  for i in range(11):\n",
        "    g=nx.read_gml(\"evolution\"+str(i)+\".gml\")\n",
        "    x+=[i]\n",
        "    y+=[number_of_obese(g)]\n",
        "  plt.xlabel(\"Time\")\n",
        "  plt.ylabel(\"Obesity\")\n",
        "  plt.title(\"Change in obesity\")\n",
        "  plt.plot(x,y)\n",
        "  plt.show()\n",
        "\n",
        "def number_of_obese(g):\n",
        "  t=0\n",
        "  for i in g.nodes():\n",
        "    if g.nodes()[i][\"type\"]==\"person\" and g.nodes()[i][\"name\"]>29.9: t+=1\n",
        "  return t\n",
        "\n",
        "obesity(G)"
      ],
      "metadata": {
        "colab": {
          "base_uri": "https://localhost:8080/",
          "height": 573
        },
        "id": "pJHUwdcZNLbn",
        "outputId": "a8bb46a4-ac4e-43eb-c4ff-fec066d0cdf3"
      },
      "execution_count": null,
      "outputs": [
        {
          "output_type": "display_data",
          "data": {
            "image/png": "[encoded data removed]",
            "text/plain": [
              "<Figure size 432x288 with 1 Axes>"
            ]
          },
          "metadata": {
            "needs_background": "light"
          }
        },
        {
          "output_type": "display_data",
          "data": {
            "image/png": "[encoded data removed]",
            "text/plain": [
              "<Figure size 432x288 with 1 Axes>"
            ]
          },
          "metadata": {
            "needs_background": "light"
          }
        }
      ]
    },
    {
      "cell_type": "markdown",
      "source": [
        "find number of membership clousures, number of triads,focal clousures"
      ],
      "metadata": {
        "id": "SYdt_6tVPfUG"
      }
    }
  ]
}
