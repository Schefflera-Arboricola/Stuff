{
  "nbformat": 4,
  "nbformat_minor": 0,
  "metadata": {
    "colab": {
      "name": "week 5 : social networks.ipynb",
      "provenance": []
    },
    "kernelspec": {
      "name": "python3",
      "display_name": "Python 3"
    },
    "language_info": {
      "name": "python"
    }
  },
  "cells": [
    {
      "cell_type": "markdown",
      "source": [
        "# Week 5 *(Schelling Model, Stable structure)*\n"
      ],
      "metadata": {
        "id": "cP1XA0Ct6QG3"
      }
    },
    {
      "cell_type": "markdown",
      "source": [
        "# Schelling Model"
      ],
      "metadata": {
        "id": "gTdz5Drc6VlH"
      }
    },
    {
      "cell_type": "code",
      "execution_count": null,
      "metadata": {
        "id": "7d5FX0sz6OYw"
      },
      "outputs": [],
      "source": [
        "import random as r\n",
        "import networkx as nx\n",
        "import matplotlib.pyplot as plt\n",
        "import time"
      ]
    },
    {
      "cell_type": "code",
      "source": [
        "def make_grid(n,grp1_to_grp2,empty_percentage,segregation_percentage=0):\n",
        "  '''makes a n*n grid, with number of grp1 people and \n",
        "  number of grp2 people in the proportion 'grp1_to_grp2'\n",
        "  with 'empty_percentage' percent blank spots, that are distributed\n",
        "  randomly on the grid.'''\n",
        "  \n",
        "  g=nx.grid_2d_graph(n,n) #creates a n*n grid but as a network, not as a grid\n",
        "  \n",
        "  #putting diagonal edges\n",
        "  for (i,j) in g.nodes():\n",
        "    if (i+1<n) and (j+1<n): g.add_edge((i,j),(i+1,j+1))\n",
        "    if (i+1<n) and (j>0): g.add_edge((i,j),(i+1,j-1)) \n",
        "  \n",
        "  assign_type(g,n,grp1_to_grp2,empty_percentage)\n",
        "  return g\n",
        "\n",
        "def assign_type(g,n,grp1_to_grp2,empty_percentage):\n",
        "  #assigning 'type' to nodes at random, such that \n",
        "  #'empty_percentage' % nodes have 'type' as 'empty' and\n",
        "  #proportion of grp1 nodes to grp 2 nodes is approx. 'grp1_to_grp2'\n",
        "\n",
        "\n",
        "  #making 'empty_percentage' % grid empty\n",
        "  p3=int((n*n)*empty_percentage/100)\n",
        "\n",
        "  if grp1_to_grp2<=1: \n",
        "    p1=int(grp1_to_grp2*((n*n)-p3)) #number of grp1 nodes\n",
        "    p2=(n*n)-p1-p3 #number of grp2 nodes\n",
        "  else:\n",
        "    p2=int((1/grp1_to_grp2)*((n*n)-p3)) #number of grp2 nodes\n",
        "    p1=(n*n)-p2-p3 #number of grp1 nodes \n",
        "\n",
        "  p=[] #list of 'type' of all nodes\n",
        "  for i in range(p1):p.append(\"group1\")\n",
        "  for i in range(p2):p.append(\"group2\")\n",
        "  for i in range(p3):p.append(\"empty\")\n",
        "\n",
        "  #randomly assigning 'type' to each node from list p\n",
        "  r.shuffle(p)\n",
        "  for i in g.nodes():\n",
        "    typ=r.choice(p)\n",
        "    g.nodes()[i][\"type\"]=typ\n",
        "    del p[p.index(typ)] \n",
        "  \n",
        "def get_labels(g):\n",
        "  label=dict(((i,j),i*n+j) for i,j in g.nodes()) #labels dictionary\n",
        "  return label\n",
        "\n",
        "\n",
        "\n",
        "n=8\n",
        "grp1_to_grp2,empty_percentage=2,40\n",
        "\n",
        "G=make_grid(n,grp1_to_grp2,empty_percentage)\n",
        "\n",
        "pos=dict((i,i) for i in G.nodes()) #position dictionary\n",
        "labels=get_labels(G) #labels dictionary"
      ],
      "metadata": {
        "id": "ZmkCsKKH6Ztd"
      },
      "execution_count": null,
      "outputs": []
    },
    {
      "cell_type": "code",
      "source": [
        "def avg_segregation_percentage(g):\n",
        "  #returns average of segregation percentage of all nodes in the graph (empty nodes are ignored)\n",
        "  s,c=0,0\n",
        "  for i in g.nodes():\n",
        "    if g.nodes()[i]['type']=='empty': continue\n",
        "    else : \n",
        "      s+=segregation_percentage(g,i)\n",
        "      c+=1\n",
        "  return s/c\n",
        "\n",
        "def segregation_percentage(g,i):\n",
        "  #returns the segregation percentage of the node i in graph g\n",
        "  t=g.nodes()[i]['type']\n",
        "  s=0\n",
        "  for j in adj[i]:\n",
        "    if t==g.nodes()[j]['type']:\n",
        "      s+=1\n",
        "  return 100*s/len(adj[i]) #percentage of similar 'type' neighbours of node i\n",
        "\n",
        "print('avg segregation percentage : ',avg_segregation_percentage(G),'%')\n",
        "\n",
        "#avg segregation percentage :  37.62820512820513 %"
      ],
      "metadata": {
        "id": "9zZhCumf6b60"
      },
      "execution_count": null,
      "outputs": []
    },
    {
      "cell_type": "code",
      "source": [
        "def display(g):\n",
        "  nx.draw(g,pos,with_labels=True,node_color=colour_node(g),labels=labels) #hides the original labels and show 'label' ,labels=labels\n",
        "  #nx.draw_networkx_labels(g,pos,labels=label) #show the labels we are made\n",
        "\n",
        "def colour_node(g):\n",
        "  c=[]\n",
        "  for i in g.nodes():\n",
        "    if g.nodes()[i][\"type\"]==\"group1\" : c.append(\"blue\")\n",
        "    elif g.nodes()[i][\"type\"]==\"group2\" : c.append(\"red\")\n",
        "    else: c.append(\"grey\") #empty\n",
        "  return c\n",
        "\n",
        "display(G)"
      ],
      "metadata": {
        "id": "y0gv1PCP6i7A"
      },
      "execution_count": null,
      "outputs": []
    },
    {
      "cell_type": "code",
      "source": [
        "def get_satisfaction(g,similarity_threshold,diversity_threshold,adj):\n",
        "  '''returns 2 lists : list of statisfied and unsatisfied nodes. \n",
        "  Satisfied : if less than or equal to 'diversity_threshold' % neighbours are different \n",
        "  and greater than or equal to 'similarity_threshold' % neighbours are same ,\n",
        "  i.e. at least 'similarity_threshold' % same neighbours and at most 'diversity_threshold' % different neighbours;\n",
        "  empty spots are not considered as neighbours'''\n",
        "\n",
        "  satisfied,unsatisfied=[],[]\n",
        "  for i in g.nodes():\n",
        "    if is_unsatisfied(g,adj,i,similarity_threshold,diversity_threshold):\n",
        "      unsatisfied.append(i)\n",
        "    else: satisfied.append(i)\n",
        "  return satisfied,unsatisfied\n",
        "\n",
        "\n",
        "def is_unsatisfied(g,adj,i,similarity_threshold,diversity_threshold):\n",
        "  '''return True is unsatisfied, False otherwise'''\n",
        "  t=g.nodes()[i][\"type\"]\n",
        "  s,d=0,0\n",
        "  for j in adj[i]:\n",
        "    if g.nodes()[j][\"type\"]==\"empty\": continue\n",
        "    elif g.nodes()[j][\"type\"]==t: s+=1\n",
        "    else: d+=1\n",
        "  #if s+d==0 and similarity_threshold!=0: return True\n",
        "  if 100*s/len(adj[i])<similarity_threshold : return True #or int(100*d/(s+d))>diversity_threshold\n",
        "  else: return False\n",
        "  \n",
        "def generate_adjlist(g):\n",
        "  d={}\n",
        "  for i in g.nodes():\n",
        "    if i not in d: d[i]=[]\n",
        "  for i in g.edges():\n",
        "    if i[0] not in d[i[1]] : d[i[1]].append(i[0])\n",
        "    if i[1] not in d[i[0]] : d[i[0]].append(i[1])\n",
        "  return d\n",
        "\n",
        "def get_grp_vice(g):\n",
        "  e,g1,g2=[],[],[]\n",
        "  for i in g.nodes():\n",
        "    if g.nodes()[i][\"type\"]==\"empty\": e.append(i)\n",
        "    elif g.nodes()[i][\"type\"]==\"group1\" : g1.append(i)\n",
        "    else: g2.append(i)\n",
        "  return e,g1,g2\n",
        "\n",
        "def move(g,unsatisfied):\n",
        "  counter=0\n",
        "  while len(unsatisfied)>(n*n)*0.1: #unsatisfied : list of unsatisfied people\n",
        "    unsat=r.choice(unsatisfied) #selecting random unsatisfied node\n",
        "    update(unsat,g) #updating nodes\n",
        "    counter+=1\n",
        "    if counter==10**5: break\n",
        "  return counter\n",
        "\n",
        "\n",
        "def update(unsat,g): #update type and label\n",
        "  e=r.choice(get_grp_vice(g)[0]) #selecting a random empty node\n",
        "  t=g.nodes()[unsat][\"type\"] #type of unsatisfied node\n",
        "  g.nodes()[e][\"type\"],g.nodes()[unsat][\"type\"]=t,\"empty\" #swapping types\n",
        "  labels[e],labels[unsat]=labels[unsat],labels[e] #swapping labels\n",
        "  unsatisfied= get_satisfaction(g,similarity_threshold,diversity_threshold,adj)[1] #updating list of unsatisfied nodes\n",
        "\n",
        "  \n",
        "\n",
        "adj=generate_adjlist(G)\n",
        "similarity_threshold,diversity_threshold=40,0\n",
        "\n",
        "unsatisfied=get_satisfaction(G,similarity_threshold,diversity_threshold,adj)[1]\n",
        "print(len(unsatisfied))\n",
        "\n",
        "count=move(G,unsatisfied)\n",
        "print(count)"
      ],
      "metadata": {
        "id": "sE5iXlwo6oFN"
      },
      "execution_count": null,
      "outputs": []
    },
    {
      "cell_type": "markdown",
      "source": [
        "---\n",
        "\n",
        "\n",
        "```\n",
        "\n",
        "\n",
        "\n",
        "```\n",
        "\n",
        "\n",
        "# Stable structure\n",
        "\n",
        "\n"
      ],
      "metadata": {
        "id": "8He5YLbg6seu"
      }
    },
    {
      "cell_type": "code",
      "source": [
        "import random as r\n",
        "import networkx as nx\n",
        "import matplotlib.pyplot as plt\n",
        "import time"
      ],
      "metadata": {
        "id": "Z7YQite_6tSC"
      },
      "execution_count": null,
      "outputs": []
    },
    {
      "cell_type": "code",
      "source": [
        "def make_network(n):\n",
        "  #returns a complete network of n nodes with random positive and negative edges\n",
        "  #edge attribute 'sign'=1 for positive edge and -1 for negative edges\n",
        "\n",
        "  g=nx.Graph()\n",
        "  g.add_nodes_from(list(range(1,n+1)))\n",
        "  \n",
        "  for i in g.nodes():\n",
        "    for j in g.nodes():\n",
        "      if i!=j:\n",
        "        s=r.choice([-1,1])\n",
        "        g.add_edge(i,j,sign=s)\n",
        "  return g\n",
        "\n",
        "def display(g):\n",
        "  #draws a graph with colored edges, with node labels, in circular layout\n",
        "  nx.draw_circular(g,with_labels=True,edge_color=get_colour(g))\n",
        "\n",
        "def get_colour(g):\n",
        "  #returns list of colours corresponding to 'sign' attribute of each edge\n",
        "  #blue edges : +1 ; red edges : -1\n",
        "  c=[]\n",
        "  for i in g.edges():\n",
        "    if g.edges()[i][\"sign\"]==-1 : c.append(\"red\")\n",
        "    else: c.append(\"blue\")\n",
        "  return c\n",
        "\n",
        "n=10\n",
        "G=make_network(n)\n",
        "display(G)"
      ],
      "metadata": {
        "id": "Yq8yKqht6vUi"
      },
      "execution_count": null,
      "outputs": []
    },
    {
      "cell_type": "code",
      "source": [
        "def unstable_triangles(g):\n",
        "  '''unstable triangle conditions :\n",
        "  ((s1==-1 and s2==-1 and s3==-1) or (s1==-1 and s2==1 and s3==1) or (s2==-1 and s1==1 and s3==1) or (s3==-1 and s2==1 and s1==1)) \n",
        "  is eqivalent to (s1*s2*s3==-1) '''\n",
        "\n",
        "  l=[] #list of combinations of all nodes taken 3 at a time (i.e. list of all triangle)\n",
        "  for i in g.nodes():\n",
        "      for j in g.nodes():\n",
        "        for k in g.nodes():\n",
        "          if i!=j and j!=k and i!=k:\n",
        "            s1,s2,s3=g.edges()[(i,j)][\"sign\"],g.edges()[(i,k)][\"sign\"],g.edges()[(k,j)][\"sign\"]\n",
        "            if (s1*s2*s3==-1) and ({i,j,k} not in l) : l.append({i,j,k})\n",
        "  return l\n",
        "\n",
        "\n",
        "def stablize(g):\n",
        "          #return a list of number of unstable triangles on each step\n",
        "          #it also stabilizes the whole network\n",
        "          L=[]\n",
        "          unstable=unstable_triangles(g)\n",
        "          L.append(len(unstable))\n",
        "          while unstable!=[]:\n",
        "            i,j,k=unstable[0]\n",
        "            s1,s2,s3=g.edges()[(i,j)][\"sign\"],g.edges()[(i,k)][\"sign\"],g.edges()[(k,j)][\"sign\"]\n",
        "            num=r.uniform(0,1)\n",
        "            if s1==-1 and s2==-1 and s3==-1: #'all enemies' triangle\n",
        "              #3 stable possibilities (1 enemy pair will turn into a friend pair)\n",
        "              if num<=1/3: s1=1\n",
        "              elif num<=2/3: s2=1\n",
        "              else: s3=1\n",
        "\n",
        "            elif s1==-1 and s2==1 and s3==1: #'1 enemy 2 friends' triangle case 1\n",
        "              #3 stable possibilities\n",
        "              if num<=0.01: s1=1 #0.01= probability that enemy pair will turn into friend pair (not calculated just randomly assigned)\n",
        "              elif num<=(0.99/2): s2=-1\n",
        "              else: s3=-1\n",
        "\n",
        "            elif s2==-1 and s1==1 and s3==1: #'1 enemy 2 friends' triangle case 2\n",
        "              #3 stable possibilities\n",
        "              if num<=0.01: s2=1\n",
        "              elif num<=(0.99/2): s1=-1\n",
        "              else: s3=-1\n",
        "\n",
        "            elif s3==-1 and s2==1 and s1==1: #'1 enemy 2 friends' triangle case 3\n",
        "              #3 stable possibilities\n",
        "              if num<=0.01: s3=1\n",
        "              elif num<=(0.99/2): s2=-1\n",
        "              else: s1=-1\n",
        "            g.edges()[(i,j)][\"sign\"],g.edges()[(i,k)][\"sign\"],g.edges()[(k,j)][\"sign\"]=s1,s2,s3\n",
        "            unstable=unstable_triangles(g)\n",
        "            L.append(len(unstable)) #list of number of unstable triangles\n",
        "          return L\n",
        "\n",
        "def see_stabilisation(evolve):\n",
        "  l=list(range(0,len(evolve)))\n",
        "  plt.bar(l,evolve)\n",
        "  plt.show()\n",
        "\n",
        "def avg_evolve(l):\n",
        "  s=0\n",
        "  for i in l:\n",
        "    s+=i\n",
        "  return (s/len(l))\n",
        "\n",
        "evolve=stablize(G)\n",
        "see_stabilisation(evolve)\n",
        "l=avg_evolve(evolve)\n",
        "print(len(evolve),evolve)"
      ],
      "metadata": {
        "id": "86eOHvVR6xO5"
      },
      "execution_count": null,
      "outputs": []
    },
    {
      "cell_type": "code",
      "source": [
        "for n in range(4,20):\n",
        "  a=time.time()\n",
        "  G=make_network(n)\n",
        "  evolve=stablize(G)\n",
        "  b=time.time()\n",
        "  m=n*(n-1)*(n-2)/6\n",
        "  print(n,avg_evolve(evolve),b-a,m) #number of nodes,average number of unstable triangles throughout the process of stabilisation of the network,time taken to stabalize,total number of triangles\n",
        "\n",
        "'''\n",
        "4 1.6 0.0009598731994628906 4.0\n",
        "5 4.166666666666667 0.009429693222045898 10.0\n",
        "6 9.767441860465116 0.028746843338012695 20.0\n",
        "7 18.9375 0.22686290740966797 35.0\n",
        "8 21.09090909090909 0.042830705642700195 56.0\n",
        "9 36.75 0.11553525924682617 84.0\n",
        "10 54.47746031746032 6.474216461181641 120.0\n",
        "11 70.67232375979113 8.784789800643921 165.0\n",
        "12 97.28147515793069 233.38530659675598 220.0\n",
        "13 133.86722979122146 1588.6729683876038 286.0\n",
        "....\n",
        "\n",
        "'''"
      ],
      "metadata": {
        "id": "UIRGxRYq6zgB"
      },
      "execution_count": null,
      "outputs": []
    },
    {
      "cell_type": "code",
      "source": [
        "display(G)"
      ],
      "metadata": {
        "id": "CRQQi5F_61qc"
      },
      "execution_count": null,
      "outputs": []
    },
    {
      "cell_type": "code",
      "source": [
        "def coalitions(g):\n",
        "  #like bfs? this function may be wrong!\n",
        "  x=r.choice(list(g.nodes()))\n",
        "  c1,c2,vis=[x,],[],[]\n",
        "  temp=[x,]\n",
        "  adj=generate_adjlist(g)\n",
        "  while len(vis)!=len(g.nodes()):\n",
        "    vis.append(temp[0])\n",
        "    for i in adj[temp[0]]:\n",
        "      if i not in temp and i not in vis:\n",
        "        temp.append(i)\n",
        "        if g.edges()[(temp[0],i)][\"sign\"]==1 and i not in c1: c1+=[i]\n",
        "        elif g.edges()[(temp[0],i)][\"sign\"]==-1 and i not in c2: c2+=[i]\n",
        "    del temp[0]\n",
        "    print(c1,c2)\n",
        "  return c1,c2\n",
        "\n",
        "def generate_adjlist(g):\n",
        "  d={}\n",
        "  for i in g.nodes():\n",
        "    if i not in d: d[i]=[]\n",
        "  for i in g.edges():\n",
        "    if i[0] not in d[i[1]] : d[i[1]].append(i[0])\n",
        "    if i[1] not in d[i[0]] : d[i[0]].append(i[1])\n",
        "  return d\n",
        "\n",
        "c1,c2=coalitions(G)\n",
        "c=[]\n",
        "for i in G.nodes():\n",
        "  if i in c1: c+=['green']\n",
        "  else: c+=['yellow'] \n",
        "\n",
        "nx.draw_circular(G,with_labels=True,edge_color=get_colour(G),node_color=c)"
      ],
      "metadata": {
        "id": "Agm0E1UY639R"
      },
      "execution_count": null,
      "outputs": []
    },
    {
      "cell_type": "code",
      "source": [
        "G1=G.copy()\n",
        "def remove_negative_edges(g):\n",
        "  for i in list(g.edges()):\n",
        "    if g.edges()[i]['sign']==-1:\n",
        "      g.remove_edge(i[0],i[1])\n",
        "  display(g)\n",
        "\n",
        "remove_negative_edges(G1)\n",
        "print(len(G1.edges()))\n"
      ],
      "metadata": {
        "id": "CdLy6BYR66dY"
      },
      "execution_count": null,
      "outputs": []
    },
    {
      "cell_type": "code",
      "source": [
        "def disconnect(g): #from week 3\n",
        "  '''  \n",
        "  -remove edges with highest betweeness one by one until graph becomes disconnected\n",
        "  -returns number of edges removed to disconnect the graph and the final disconnected components\n",
        "  '''\n",
        "  d=dict(nx.edge_betweenness(g, normalized=True))\n",
        "  marklist = sorted(d.items(), key=lambda x:x[1])\n",
        "  sortdict = dict(marklist)\n",
        "  #print(sortdict)\n",
        "\n",
        "  c=0\n",
        "  while nx.is_connected(g)==True:\n",
        "    keys=list(sortdict.keys())\n",
        "    max_edge=keys[-1]\n",
        "    #print(max_edge)\n",
        "    del sortdict[max_edge]\n",
        "    g.remove_edge(max_edge[0],max_edge[1])\n",
        "    d=dict(nx.edge_betweenness(g, normalized=True))\n",
        "    marklist = sorted(d.items(), key=lambda x:x[1])\n",
        "    sortdict = dict(marklist)\n",
        "    c+=1\n",
        "  return(c,list(nx.connected_components(g)))\n",
        "\n",
        "disconnect(G)\n",
        "display(G)"
      ],
      "metadata": {
        "id": "ekO-mZCq68ri"
      },
      "execution_count": null,
      "outputs": []
    }
    
}
