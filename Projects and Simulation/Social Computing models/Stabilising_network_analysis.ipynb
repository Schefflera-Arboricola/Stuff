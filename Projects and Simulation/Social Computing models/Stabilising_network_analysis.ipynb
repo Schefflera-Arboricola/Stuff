{
  "nbformat": 4,
  "nbformat_minor": 0,
  "metadata": {
    "colab": {
      "name": "Stabilising network analysis.ipynb",
      "provenance": [],
      "authorship_tag": "ABX9TyPqVcjLhTqsaqLxTsocgKfB"
    },
    "kernelspec": {
      "name": "python3",
      "display_name": "Python 3"
    },
    "language_info": {
      "name": "python"
    }
  },
  "cells": [
    {
      "cell_type": "markdown",
      "source": [
        "If we have random positive and negative edges in a k5 graph, then how many iterations are required to make it stable? Is there any relationship between the initial number of positive edges and number of iterations required to make the graph stable?"
      ],
      "metadata": {
        "id": "65ZnAdYmHc3t"
      }
    },
    {
      "cell_type": "code",
      "source": [
        "import random as r\n",
        "import networkx as nx\n",
        "import matplotlib.pyplot as plt\n",
        "import time"
      ],
      "metadata": {
        "id": "zaGesViDE0T7"
      },
      "execution_count": null,
      "outputs": []
    },
    {
      "cell_type": "code",
      "source": [
        "def make_network(n):\n",
        "  #returns a complete network of n nodes with random positive and negative edges\n",
        "  #edge attribute 'sign'=1 for positive edge and -1 for negative edges\n",
        "  #it also returns the number of positive edges\n",
        "\n",
        "  g=nx.Graph()\n",
        "  g.add_nodes_from(list(range(1,n+1)))\n",
        "  c=0\n",
        "\n",
        "  for i in g.nodes():\n",
        "    for j in g.nodes():\n",
        "      if i!=j:\n",
        "        s=r.choice([-1,1])\n",
        "        g.add_edge(i,j,sign=s)\n",
        "        if s==1 : c+=1\n",
        "  return g,c\n",
        "\n",
        "def display(g):\n",
        "  #draws a graph with colored edges, with node labels, in circular layout\n",
        "  nx.draw_circular(g,with_labels=True,edge_color=get_colour(g))\n",
        "  plt.show()\n",
        "\n",
        "def get_colour(g):\n",
        "  #returns list of colours corresponding to 'sign' attribute of each edge\n",
        "  #blue edges : +1 ; red edges : -1\n",
        "  c=[]\n",
        "  for i in g.edges():\n",
        "    if g.edges()[i][\"sign\"]==-1 : c.append(\"red\")\n",
        "    else: c.append(\"blue\")\n",
        "  return c\n",
        "\n",
        "def unstable_triangles(g):\n",
        "  '''unstable triangle conditions :\n",
        "  ((s1==-1 and s2==-1 and s3==-1) or (s1==-1 and s2==1 and s3==1) or (s2==-1 and s1==1 and s3==1) or (s3==-1 and s2==1 and s1==1)) \n",
        "  is eqivalent to (s1*s2*s3==-1) '''\n",
        "\n",
        "  l=[] #list of combinations of all nodes taken 3 at a time (i.e. list of all triangle)\n",
        "  for i in g.nodes():\n",
        "      for j in g.nodes():\n",
        "        for k in g.nodes():\n",
        "          if i!=j and j!=k and i!=k:\n",
        "            s1,s2,s3=g.edges()[(i,j)][\"sign\"],g.edges()[(i,k)][\"sign\"],g.edges()[(k,j)][\"sign\"]\n",
        "            if (s1*s2*s3==-1) and ({i,j,k} not in l) : l.append({i,j,k})\n",
        "  return l\n",
        "\n",
        "\n",
        "def stablize(g):\n",
        "          #return a list of number of unstable triangles on each step\n",
        "          #it also stabilizes the whole network\n",
        "          L=[]\n",
        "          unstable=unstable_triangles(g)\n",
        "          L.append(len(unstable))\n",
        "          while unstable!=[]:\n",
        "            i,j,k=unstable[0]\n",
        "            s1,s2,s3=g.edges()[(i,j)][\"sign\"],g.edges()[(i,k)][\"sign\"],g.edges()[(k,j)][\"sign\"]\n",
        "            num=r.uniform(0,1)\n",
        "            if s1==-1 and s2==-1 and s3==-1: #'all enemies' triangle\n",
        "              #3 stable possibilities (1 enemy pair will turn into a friend pair)\n",
        "              if num<=1/3: s1=1\n",
        "              elif num<=2/3: s2=1\n",
        "              else: s3=1\n",
        "\n",
        "            elif s1==-1 and s2==1 and s3==1: #'1 enemy 2 friends' triangle case 1\n",
        "              #3 stable possibilities\n",
        "              if num<=0.01: s1=1 #0.01= probability that enemy pair will turn into friend pair (not calculated just randomly assigned)\n",
        "              elif num<=(0.99/2): s2=-1\n",
        "              else: s3=-1\n",
        "\n",
        "            elif s2==-1 and s1==1 and s3==1: #'1 enemy 2 friends' triangle case 2\n",
        "              #3 stable possibilities\n",
        "              if num<=0.01: s2=1\n",
        "              elif num<=(0.99/2): s1=-1\n",
        "              else: s3=-1\n",
        "\n",
        "            elif s3==-1 and s2==1 and s1==1: #'1 enemy 2 friends' triangle case 3\n",
        "              #3 stable possibilities\n",
        "              if num<=0.01: s3=1\n",
        "              elif num<=(0.99/2): s2=-1\n",
        "              else: s1=-1\n",
        "            g.edges()[(i,j)][\"sign\"],g.edges()[(i,k)][\"sign\"],g.edges()[(k,j)][\"sign\"]=s1,s2,s3\n",
        "            unstable=unstable_triangles(g)\n",
        "            L.append(len(unstable)) #list of number of unstable triangles\n",
        "          return L\n",
        "\n",
        "def see_stabilisation(evolve):\n",
        "  l=list(range(0,len(evolve)))\n",
        "  plt.bar(l,evolve)\n",
        "  plt.show()\n",
        "\n",
        "def avg_list(l):\n",
        "  s=0\n",
        "  for i in l:\n",
        "    s+=i\n",
        "  return (s/len(l))\n",
        "\n",
        "def plot_relation(x,y,xl=\"xlabel\",yl=\"ylabel\",title=\"tiltle\"):\n",
        "  plt.scatter(x, y)\n",
        "  plt.xlabel(xl)  \n",
        "  plt.ylabel(yl)\n",
        "  plt.title(title)  \n",
        "  plt.show() "
      ],
      "metadata": {
        "id": "7WW7s-tCE03l"
      },
      "execution_count": null,
      "outputs": []
    },
    {
      "cell_type": "code",
      "source": [
        "n=5\n",
        "y=[]\n",
        "x=[]\n",
        "m=10**5\n",
        "for i in range(m):\n",
        "  g=make_network(n)\n",
        "  G=g[0] #k5 graph\n",
        "  x+=[g[1]] #number of positive edges\n",
        "  y+=[len(stablize(G))]\n",
        "print(\"Average number of iterations : \",avg_list(y))\n",
        "\n",
        "plot_relation(x,y,xl=\"number of positive edges\",yl=\"number of iterations to stabalise\",title=\"tiltle\")"
      ],
      "metadata": {
        "colab": {
          "base_uri": "https://localhost:8080/",
          "height": 312
        },
        "id": "xH1iI3FuF9Iz",
        "outputId": "b4e2775c-db20-4aa1-9010-1ede4fbff2fd"
      },
      "execution_count": null,
      "outputs": [
        {
          "output_type": "stream",
          "name": "stdout",
          "text": [
            "Average number of iterations :  12.37743\n"
          ]
        },
        {
          "output_type": "display_data",
          "data": {
            "text/plain": [
              "<Figure size 432x288 with 1 Axes>"
            ],
            "image/png": "[encoded data removed]"
          },
          "metadata": {
            "needs_background": "light"
          }
        }
      ]
    }
  ]
}