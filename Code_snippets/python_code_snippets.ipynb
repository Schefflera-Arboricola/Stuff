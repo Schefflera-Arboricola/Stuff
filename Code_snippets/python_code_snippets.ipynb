{
  "nbformat": 4,
  "nbformat_minor": 0,
  "metadata": {
    "colab": {
      "name": "python assignments.ipynb",
      "provenance": [],
      "collapsed_sections": []
    },
    "kernelspec": {
      "name": "python3",
      "display_name": "Python 3"
    },
    "language_info": {
      "name": "python"
    }
  },
  "cells": [
    {
      "cell_type": "markdown",
      "source": [
        "#1+(1+2)+(1+2+3)+(1+2+3+4)+...."
      ],
      "metadata": {
        "id": "Wu6xR5BlCS0Q"
      }
    },
    {
      "cell_type": "code",
      "execution_count": null,
      "metadata": {
        "id": "BVor_kSMCAK6"
      },
      "outputs": [],
      "source": [
        "n=int(input())\n",
        "term,sum=1,1\n",
        "for i in range(2,n+1):\n",
        "    term+=i\n",
        "    sum+=term\n",
        "print(sum)"
      ]
    },
    {
      "cell_type": "markdown",
      "source": [
        "#prime factors in ascending order"
      ],
      "metadata": {
        "id": "PUKD1A8JCkEu"
      }
    },
    {
      "cell_type": "code",
      "source": [
        "def isprime(a):\n",
        "    m=True\n",
        "    for i in range(2,int(a**0.5)+1): \n",
        "        if a%i==0: \n",
        "            m=False\n",
        "            break    \n",
        "    return m\n",
        "    \n",
        "n=int(input())\n",
        "m=False\n",
        "for i in range(2,n):\n",
        "    if n%i==0 and isprime(i)==True:\n",
        "        print(i)\n",
        "        m=True\n",
        "if m==False:\n",
        "    print(n)"
      ],
      "metadata": {
        "id": "WZC646jVCQ5q"
      },
      "execution_count": null,
      "outputs": []
    },
    {
      "cell_type": "markdown",
      "source": [
        "#moving a bot"
      ],
      "metadata": {
        "id": "7W0tVIqfCnlu"
      }
    },
    {
      "cell_type": "code",
      "source": [
        "def up(x,y):\n",
        "    return(x,y+1)\n",
        "def down(x,y):\n",
        "    return(x,y-1)\n",
        "def left(x,y):\n",
        "    return(x-1,y)\n",
        "def right(x,y):\n",
        "    return(x+1,y)\n",
        "def dist(x,y):\n",
        "    return(abs(x)+abs(y))\n",
        "\n",
        "x,y=0,0\n",
        "n=input()\n",
        "n=input()\n",
        "while n!=\"STOP\":\n",
        "    if n==\"UP\": x,y=up(x,y)\n",
        "    if n==\"DOWN\": x,y=down(x,y)\n",
        "    if n==\"LEFT\": x,y=left(x,y)\n",
        "    if n==\"RIGHT\": x,y=right(x,y)\n",
        "    n=input()\n",
        "print(dist(x,y))"
      ],
      "metadata": {
        "id": "L7xHKLjXCyLf"
      },
      "execution_count": null,
      "outputs": []
    },
    {
      "cell_type": "markdown",
      "source": [
        "# pattern\n",
        "```\n",
        "1\n",
        "1,2\n",
        "1,2,3\n",
        "1,2,3,4\n",
        "1,2,3\n",
        "1,2\n",
        "1\n",
        "```\n",
        "\n",
        "\n"
      ],
      "metadata": {
        "id": "B27npcQmC13R"
      }
    },
    {
      "cell_type": "code",
      "source": [
        "n=int(input())\n",
        "l=list(range(1,n+1))\n",
        "L=[]\n",
        "L+=[l]\n",
        "for i in range(n-1):\n",
        "    l=l[0:-1]\n",
        "    L+=[l]\n",
        "\n",
        "for i in range(len(L)-1,-1,-1):\n",
        "    for j in str(L[i])[1:-1]:\n",
        "        if j!=\" \":\n",
        "            print(j,end=\"\")\n",
        "    print()\n",
        "for i in range(1,len(L)):\n",
        "    for j in str(L[i])[1:-1]:\n",
        "        if j!=\" \":\n",
        "            print(j,end=\"\")\n",
        "    print()"
      ],
      "metadata": {
        "id": "lnOnau0NDVyQ"
      },
      "execution_count": null,
      "outputs": []
    },
    {
      "cell_type": "markdown",
      "source": [
        "#finding median"
      ],
      "metadata": {
        "id": "MXnX0pR0DuQZ"
      }
    },
    {
      "cell_type": "code",
      "source": [
        "def solution(marks):\n",
        "    l=marks\n",
        "    l1=list(l)\n",
        "    for i in range(1,len(l)):\n",
        "        j=i-1\n",
        "        while j>=0:\n",
        "            if l[j+1]<l[j]:\n",
        "                l[j+1],l[j]=l[j],l[j+1]\n",
        "            else: break \n",
        "            j-=1\n",
        "    n=len(marks)\n",
        "    if n%2==0:\n",
        "        median=(marks[int(n/2)-1]+marks[int(n/2+1)-1])/2\n",
        "    else:\n",
        "        median=marks[int((n+1)/2)-1]\n",
        "    return median"
      ],
      "metadata": {
        "id": "3DNk_xhREFON"
      },
      "execution_count": null,
      "outputs": []
    },
    {
      "cell_type": "markdown",
      "source": [
        "#square matrix multiplication"
      ],
      "metadata": {
        "id": "C5oXCbQ3EKSc"
      }
    },
    {
      "cell_type": "code",
      "source": [
        "n=int(input())\n",
        "A,B,C=[],[],[]\n",
        "for i in range(n): C.append([0]*n)\n",
        "for i in range(n):\n",
        "    A+=[eval(input())]\n",
        "for i in range(n):\n",
        "    B+=[eval(input())]\n",
        "for i in range(n):\n",
        "    for j in range(n):\n",
        "        C[j][i]=B[i][j]\n",
        "D=[]\n",
        "for k in A:\n",
        "  for i in C:\n",
        "    s=0\n",
        "    for j in range(n):\n",
        "      s+=(k[j]*i[j])\n",
        "    D+=[s]\n",
        "\n",
        "for i in range(0,n*n,n):\n",
        "  for j in str(D[i:i+n])[1:-1]:\n",
        "    if j!=\" \": print(j,end=\"\")\n",
        "  print()"
      ],
      "metadata": {
        "id": "ktRHI_l4EIdh"
      },
      "execution_count": null,
      "outputs": []
    },
    {
      "cell_type": "markdown",
      "source": [
        "#finding closest point\n",
        "\n",
        "You are given a sequence of n points,(xi,yi​), 1≤x≤n, in the 2-D plane as input. Also, you are given a point P with coordinates (x,y). Print all points in the sequence that are nearest to P. If multiple points have the same least distance from P, print the points in the order of their appearance in the sequence."
      ],
      "metadata": {
        "id": "xVUdWLuTE3k4"
      }
    },
    {
      "cell_type": "code",
      "source": [
        "n=int(input())\n",
        "l,l1=[],[]\n",
        "for i in range(n):\n",
        "    l+=[eval(input())]   \n",
        "P=eval(input())\n",
        "m=1000\n",
        "for i in l:\n",
        "    d=(((P[0]-i[0])**2)+((P[1]-i[1])**2))**0.5\n",
        "    if d<m: \n",
        "        m=d\n",
        "        l1=[i,]\n",
        "    elif d==m: l1+=[i]\n",
        "for i in l1:\n",
        "    for j in str(i)[1:-1]:\n",
        "        if j!=\" \":\n",
        "            print(j,end=\"\")\n",
        "    print()"
      ],
      "metadata": {
        "id": "74OtmQmoE7Zd"
      },
      "execution_count": null,
      "outputs": []
    },
    {
      "cell_type": "markdown",
      "source": [
        "#perfect number check\n",
        "A perfect number is a positive integer that is equal to the sum of all its divisors excluding itself."
      ],
      "metadata": {
        "id": "-zR4Lz80FqfY"
      }
    },
    {
      "cell_type": "code",
      "source": [
        "def is_perfect(n):\n",
        "    \"\"\"\n",
        "    determine if a number is perfect or not\n",
        "\n",
        "    Argument:\n",
        "        n: int\n",
        "    Return:\n",
        "        result: bool\n",
        "    \"\"\"\n",
        "    sum=1\n",
        "    for i in range(2,int(n/2)+1):\n",
        "        if n%i==0: sum+=i\n",
        "    if sum==n: return True\n",
        "    else: return False\n",
        "print(is_perfect(int(input())))"
      ],
      "metadata": {
        "id": "rVE9zWC8Foqt"
      },
      "execution_count": null,
      "outputs": []
    },
    {
      "cell_type": "markdown",
      "source": [
        "#magic square check\n",
        "\n",
        "A n×n square matrix of positive integers is called a magic square if the following sums are equal:\n",
        "\n",
        "1. row-sum: sum of numbers in every row\n",
        "2. column-sum: sum of numbers in every column\n",
        "3. diagonal-sum: sum of numbers in both the diagonals\n",
        "\n",
        "\n",
        "\n"
      ],
      "metadata": {
        "id": "shTOf-4vFxxP"
      }
    },
    {
      "cell_type": "code",
      "source": [
        "def is_magic(mat):\n",
        "    \"\"\"\n",
        "    determine if a matrix is magic square\n",
        "\n",
        "    Argument:\n",
        "        mat: list of lists\n",
        "    Return:\n",
        "        bool : True and False\n",
        "    \"\"\"\n",
        "    l=[]\n",
        "    for i in mat:\n",
        "        s=0\n",
        "        for j in i:\n",
        "            s+=j\n",
        "        if s not in l and l!=[]:\n",
        "            return \"NO\"\n",
        "        else: l+=[s]\n",
        "    l=[]\n",
        "    for i in range(len(mat)):\n",
        "        s=0\n",
        "        for j in range(len(mat)):\n",
        "            s+=mat[j][i]\n",
        "        if s not in l and l!=[]:\n",
        "            return \"NO\"\n",
        "        else: l+=[s]\n",
        "    s=0\n",
        "    for i in range(len(mat)):\n",
        "        for j in range(len(mat)):\n",
        "            if i==j: s+=mat[i][j]\n",
        "    mat1=[]\n",
        "    for i in mat:\n",
        "        l=[]\n",
        "        for j in range(len(mat)-1,-1,-1):\n",
        "            l.append(i[j])\n",
        "        mat1.append(l)\n",
        "      \n",
        "    l=[]\n",
        "    s1=0\n",
        "    for i in range(len(mat1)):\n",
        "        for j in range(len(mat1)):\n",
        "            if i==j: s1+=mat1[i][j]\n",
        "    if s!=s1: return False\n",
        "    else : return True"
      ],
      "metadata": {
        "id": "EpIbzsvmGbt7"
      },
      "execution_count": null,
      "outputs": []
    },
    {
      "cell_type": "markdown",
      "source": [
        "#transpose"
      ],
      "metadata": {
        "id": "IjYoT8kXGn_V"
      }
    },
    {
      "cell_type": "code",
      "source": [
        "def transpose(mat):\n",
        "    \"\"\"\n",
        "    compute the transpose of the matrix\n",
        "\n",
        "    Argument:\n",
        "        mat: list of lists\n",
        "    Return:\n",
        "        mat_trans: list of lists\n",
        "    \"\"\"\n",
        "    mat1=[]\n",
        "    for i in range(len(mat[0])) :\n",
        "        mat1.append([])\n",
        "        for j in range(len(mat)):\n",
        "            mat1[i].append(0)\n",
        "    for i in range(len(mat)):\n",
        "        for j in range(len(mat[i])):\n",
        "            mat1[j][i]=mat[i][j]\n",
        "    return mat1"
      ],
      "metadata": {
        "id": "1X42pvWDGndO"
      },
      "execution_count": null,
      "outputs": []
    },
    {
      "cell_type": "markdown",
      "source": [
        "#frequency of words in the list"
      ],
      "metadata": {
        "id": "TGMmONwHG8FV"
      }
    },
    {
      "cell_type": "code",
      "source": [
        "def freq_to_words(words):\n",
        "    \"\"\"\n",
        "    Get the collection of all words that have a given frequency\n",
        "\n",
        "    Argument\n",
        "       words: list of strings\n",
        "    Return: \n",
        "       result: dictionary \n",
        "           key: integer\n",
        "           value: list of strings\n",
        "    \"\"\"\n",
        "    d={}\n",
        "    for i in words:\n",
        "        if i in d: d[i]+=1\n",
        "        else: d[i]=1\n",
        "    d1={}\n",
        "    for i in d:\n",
        "        if d[i] in d1 : d1[d[i]]+=[i]\n",
        "        else: d1[d[i]]=[i]\n",
        "    return d1"
      ],
      "metadata": {
        "id": "35bnkDHiG7Xd"
      },
      "execution_count": null,
      "outputs": []
    },
    {
      "cell_type": "markdown",
      "source": [
        "#Rotate a matrix 90 degrees clockwise literally"
      ],
      "metadata": {
        "id": "BNwZUicfHKG8"
      }
    },
    {
      "cell_type": "code",
      "source": [
        "def rotate(mat):\n",
        "    \"\"\"\n",
        "    Rotate a matrix 90 degrees clockwise\n",
        "\t\n",
        "    Argument:\n",
        "        mat: list of lists\n",
        "    Return:\n",
        "        rotated_mat: list of lists\n",
        "    \"\"\"\n",
        "    m=len(mat)\n",
        "    n=len(mat[0])\n",
        "    l=[]\n",
        "    for i in range(n):\n",
        "        l1=[]\n",
        "        for j in range(m):\n",
        "            l1.append(0)\n",
        "        l.append(l1)\n",
        "        \n",
        "    for i in range(n):\n",
        "        for j in range(m):\n",
        "            l[i][j]=mat[m-j-1][i]\n",
        "    return l"
      ],
      "metadata": {
        "id": "tP0aWlaMHJPN"
      },
      "execution_count": null,
      "outputs": []
    },
    {
      "cell_type": "markdown",
      "source": [
        "#two-level sort\n"
      ],
      "metadata": {
        "id": "oq7yYLMiHWCg"
      }
    },
    {
      "cell_type": "code",
      "source": [
        "def two_level_sort(scores):\n",
        "    \"\"\"\n",
        "    Perform a two-level sort\n",
        "\n",
        "    Argument: \n",
        "        scores: list of tuples, (string, integer)\n",
        "    Return:\n",
        "        result: list of tuples (string, integer)\n",
        "    \"\"\"\n",
        "    def quick(l,k):\n",
        "        if len(l)<=1:\n",
        "            return l\n",
        "        p=l[0]\n",
        "        min,max,pc=[],[],[]\n",
        "        for i in range(len(l)):\n",
        "            if p[k]>l[i][k]: min+=[l[i]]\n",
        "            elif p[k]==l[i][k]: pc+=[l[i]]\n",
        "            else: max+=[l[i]]\n",
        "        pc=quick(pc,0)\n",
        "        return quick(min,1)+pc+quick(max,1)\n",
        "    return quick(scores,1)"
      ],
      "metadata": {
        "id": "KwCg_K5FHSaM"
      },
      "execution_count": null,
      "outputs": []
    },
    {
      "cell_type": "markdown",
      "source": [
        "#Merge two dicts"
      ],
      "metadata": {
        "id": "TEovrZiuHsQH"
      }
    },
    {
      "cell_type": "code",
      "source": [
        "def merge(D1, D2, priority):\n",
        "    \"\"\"\n",
        "    Merge two dicts\n",
        "\n",
        "    Arguments: \n",
        "        - D1: first dictionary\n",
        "        - D2: second dictionary\n",
        "        - priority: string\n",
        "    Returns: D; merged dictionary\n",
        "    \"\"\"\n",
        "    D=D1\n",
        "    if priority==\"first\": p=0\n",
        "    elif priority==\"second\" : p=1\n",
        "    if p==0:\n",
        "        for i in D2:\n",
        "            if i not in D: D[i]=D2[i]\n",
        "    elif p==1:\n",
        "        for i in D2:\n",
        "            D[i]=D2[i]\n",
        "    return D"
      ],
      "metadata": {
        "id": "8rJW7BQuHrmu"
      },
      "execution_count": null,
      "outputs": []
    },
    {
      "cell_type": "markdown",
      "source": [
        "# get minor matrix"
      ],
      "metadata": {
        "id": "yuaUTw0DH0F8"
      }
    },
    {
      "cell_type": "code",
      "source": [
        "def minor_matrix(M, i, j):\n",
        "    \"\"\"\n",
        "    Compute the \"minor matrix\"\n",
        "\n",
        "    Arguments:\n",
        "        M: list of lists\n",
        "        i: integer\n",
        "        j: integer\n",
        "    Return:\n",
        "        M_ij: list of lists\n",
        "    \"\"\"\n",
        "    del M[i]\n",
        "    for k in M:\n",
        "        del k[j]\n",
        "    return M"
      ],
      "metadata": {
        "id": "wtkMflZeHzkW"
      },
      "execution_count": null,
      "outputs": []
    },
    {
      "cell_type": "markdown",
      "source": [
        "#Collatz function"
      ],
      "metadata": {
        "id": "P9VThnaRJWmp"
      }
    },
    {
      "cell_type": "code",
      "source": [
        "def collatz(n):\n",
        "    \"\"\"\n",
        "    A recursive function to compute the number of calls to the Collatz function of n\n",
        "\n",
        "    Argument:\n",
        "        n: integer\n",
        "        Assume that 1 < n <= 32,000\n",
        "    Returns: \n",
        "        result: integer\n",
        "    \"\"\"\n",
        "    if n%2==1: n= 3*n+1\n",
        "    else : n= int(n/2)\n",
        "    if n==1: return 1\n",
        "    else :\n",
        "        return 1+collatz(n) "
      ],
      "metadata": {
        "id": "FmmiDA5oH3rX"
      },
      "execution_count": null,
      "outputs": []
    },
    {
      "cell_type": "markdown",
      "source": [
        "#3 step fibonacci"
      ],
      "metadata": {
        "id": "aJgGSDRRJdPp"
      }
    },
    {
      "cell_type": "code",
      "source": [
        "def steps(n):\n",
        "    \"\"\"\n",
        "    A recursive function to compute the number of ways to ascend steps \n",
        "\n",
        "    Argument:\n",
        "        n: integer\n",
        "    Return:\n",
        "        result: integer\n",
        "    \"\"\"\n",
        "    if n==1: return 1\n",
        "    elif n==2 : return 2\n",
        "    elif n==3 : return 4\n",
        "    else : return steps(n-1)+steps(n-2)+steps(n-3)\n",
        "    "
      ],
      "metadata": {
        "id": "qy6brGPJJuWp"
      },
      "execution_count": null,
      "outputs": []
    },
    {
      "cell_type": "markdown",
      "source": [
        "#ancestry\n",
        "```\n",
        "input:\n",
        "{'Jahangir': 'Akbar', 'Akbar': 'Humayun', 'Humayun': 'Babur'}\n",
        "Jahangir\n",
        "Babur\n",
        "\n",
        "output:\n",
        "['Jahangir', 'Akbar', 'Humayun', 'Babur']\n",
        "```\n",
        "\n",
        "\n"
      ],
      "metadata": {
        "id": "AMzLYvmWKisw"
      }
    },
    {
      "cell_type": "code",
      "source": [
        "def ancestry(P, present, past):\n",
        "    \"\"\"\n",
        "    A recursive function to compute the sequence of ancestors of person\n",
        "\n",
        "    Arguments:\n",
        "        P: dict, key and value are strings\n",
        "        present: string\n",
        "        past: string\n",
        "    Return:\n",
        "        result: list of strings\n",
        "    \"\"\"\n",
        "    if past==present: return [past,]\n",
        "    else: \n",
        "        return [present,]+ancestry(P, P[present], past)"
      ],
      "metadata": {
        "id": "W72ipFaDKhJ1"
      },
      "execution_count": null,
      "outputs": []
    },
    {
      "cell_type": "markdown",
      "source": [
        "#relationship between two files"
      ],
      "metadata": {
        "id": "zMJHwhacLQ0W"
      }
    },
    {
      "cell_type": "code",
      "source": [
        "def relation(file1, file2):\n",
        "    \"\"\"\n",
        "    Determine the relationship between two files\n",
        "\n",
        "    Arguments:\n",
        "        file1, file2: strings, paths to two files\n",
        "    Return:\n",
        "        string: 'Equal', 'Subset' or 'No Relation'\n",
        "    \"\"\"\n",
        "    f1 = open(file1, 'r')\n",
        "    f2 = open(file2, 'r')\n",
        "    m,f1,f2=True,list(f1),list(f2)\n",
        "    for i in range(len(f1)):\n",
        "        if f1[i].strip()!=f2[i].strip(): \n",
        "            m=False\n",
        "            break\n",
        "    \n",
        "    if m==True:\n",
        "        if len(f1)==len(f2) : return \"Equal\"\n",
        "        else: return \"Subset\"\n",
        "    else : return \"No Relation\""
      ],
      "metadata": {
        "id": "LoP9BDGnLQEs"
      },
      "execution_count": null,
      "outputs": []
    },
    {
      "cell_type": "markdown",
      "source": [
        "#num to words\n",
        "\n",
        "\n",
        "```\n",
        "input :\n",
        "[[1, 2], [3, 4]]\n",
        "\n",
        "output :    \n",
        "one,two\n",
        "three,four\n",
        "```\n",
        "\n"
      ],
      "metadata": {
        "id": "JCchSWJHLh-C"
      }
    },
    {
      "cell_type": "code",
      "source": [
        "def num_to_words(mat):\n",
        "    \"\"\"\n",
        "    Convert matrix to file\n",
        "\n",
        "    Argument: \n",
        "        mat: list of lists\n",
        "    Return:\n",
        "        None\n",
        "    \"\"\"\n",
        "    l=['zero','one','two','three','four','five','six','seven','eight','nine']\n",
        "    M=[]\n",
        "    for i in range(len(mat)):\n",
        "        m=''\n",
        "        for j in range(len(mat)):\n",
        "            m+=l[mat[i][j]]+\",\"\n",
        "        M+=[m[:-1]+\"\\n\"]\n",
        "    M[-1]=M[-1][:-1]\n",
        "    f = open('words.csv', 'w')\n",
        "    f.writelines(M)\n",
        "    f.close()"
      ],
      "metadata": {
        "id": "Ce3KRUv6LoLK"
      },
      "execution_count": null,
      "outputs": []
    },
    {
      "cell_type": "markdown",
      "source": [
        "#calculator"
      ],
      "metadata": {
        "id": "VJNVWJwGMA7g"
      }
    },
    {
      "cell_type": "code",
      "source": [
        "class Calculator(object):\n",
        "    def __init__(self,a,b):\n",
        "        self.a=a\n",
        "        self.b=b\n",
        "    def add(self):\n",
        "        return self.a + self.b\n",
        "    def multiply(self):\n",
        "        return self.a * self.b\n",
        "    def subtract(self):\n",
        "        return self.a - self.b\n",
        "    def quotient(self):\n",
        "        return self.a // self.b\n",
        "    def remainder(self):\n",
        "        return self.a % self.b\n",
        "        "
      ],
      "metadata": {
        "id": "3OTo_V_vMDly"
      },
      "execution_count": null,
      "outputs": []
    },
    {
      "cell_type": "markdown",
      "source": [
        "#String Manipulation"
      ],
      "metadata": {
        "id": "UfW3kOH-MJ3-"
      }
    },
    {
      "cell_type": "code",
      "source": [
        "class StringManipulation(object):\n",
        "    def __init__(self,words):\n",
        "        self.words=words\n",
        "    def total_words(self):  #return the total number of words in words\n",
        "        return len(self.words)\n",
        "    def count(self,some_word): #accept an argument named some_word and return the number of times this word occurs in the list words\n",
        "        c=0\n",
        "        for i in self.words:\n",
        "            if i==some_word: c+=1\n",
        "        return c\n",
        "    def words_of_length(self,length): #accept a positive integer length as argument and return a list of all the words in the list words that have a length equal to length\n",
        "        l=[]\n",
        "        for i in self.words:\n",
        "            if len(i)==length: l+=[i]\n",
        "        return l\n",
        "    def words_start_with(self,char): #accept a character char as argument and return the list of all the words in words that start with char\n",
        "        l=[]\n",
        "        for i in self.words:\n",
        "            if i[0]==char: l+=[i]\n",
        "        return l\n",
        "    def longest_word(self): #return the longest word in the list words; if there are multiple words that satisfy this condition, return the first such occurrence\n",
        "        max=[self.words[0],]\n",
        "        for i in self.words:\n",
        "            if len(i)>len(max[0]): max=[i,]\n",
        "            elif len(i)==len(max[0]): max+=[i]\n",
        "        return max[0]\n",
        "    def palindromes(self): #return a list of all the words that are palindromes in words\n",
        "        l=[]\n",
        "        for i in self.words:\n",
        "            if i==i[::-1]: l+=[i]\n",
        "        return l"
      ],
      "metadata": {
        "id": "UX5KZ-LgMIXF"
      },
      "execution_count": null,
      "outputs": []
    },
    {
      "cell_type": "markdown",
      "source": [
        "#shapes"
      ],
      "metadata": {
        "id": "zZsE7KgdMXfW"
      }
    },
    {
      "cell_type": "code",
      "source": [
        "class Shape:\n",
        "    def __init__(self, name):\n",
        "        self.name = name\n",
        "        self.area = None\n",
        "        self.perimeter = None\n",
        "\n",
        "    def display(self):\n",
        "        print(f'{self.name} has an area of {self.area} and perimeter of {self.perimeter}')\n",
        "class Square(Shape):\n",
        "    def __init__(self,side):\n",
        "        super().__init__(\"Square\")\n",
        "        self.side=side\n",
        "        def compute_area(self):\n",
        "            self.area=self.side*self.side\n",
        "        def compute_perimeter(self):\n",
        "            self.perimeter=4*self.side\n",
        "        compute_area(self)\n",
        "        compute_perimeter(self)"
      ],
      "metadata": {
        "id": "umJJ8aWdMLoe"
      },
      "execution_count": null,
      "outputs": []
    },
    {
      "cell_type": "markdown",
      "source": [
        "#time conversion"
      ],
      "metadata": {
        "id": "JTyDKIuiMkCO"
      }
    },
    {
      "cell_type": "code",
      "source": [
        "class Time(object):\n",
        "    def __init__(self,time):\n",
        "        self.time=time\n",
        "    def seconds_to_minutes(self):\n",
        "        min=self.time//60\n",
        "        sec=self.time-(60*min)\n",
        "        s=str(min)+' min '+str(sec)+' sec'\n",
        "        return s\n",
        "    def seconds_to_hours(self):\n",
        "        hrs=self.time//3600\n",
        "        min=(self.time-(3600*hrs))//60\n",
        "        sec=self.time-(60*min)-(3600*hrs)\n",
        "        s=str(hrs)+' hrs '+str(min)+' min '+str(sec)+' sec'\n",
        "        return s\n",
        "    def seconds_to_days(self):\n",
        "        days=self.time//(24*3600)\n",
        "        hrs=(self.time-(days*24*3600))//3600\n",
        "        min=(self.time-(days*24*3600)-(3600*hrs))//60\n",
        "        sec=(self.time-(days*24*3600)-(60*min)-(3600*hrs))\n",
        "        s=str(days)+' days '+str(hrs)+' hrs '+str(min)+' min '+str(sec)+' sec'\n",
        "        return s\n"
      ],
      "metadata": {
        "id": "GyZaaJaTMjc-"
      },
      "execution_count": null,
      "outputs": []
    },
    {
      "cell_type": "markdown",
      "source": [
        "# correlation coefficient"
      ],
      "metadata": {
        "id": "0xDZNDmXv-kP"
      }
    },
    {
      "cell_type": "code",
      "source": [
        "def f(P):\n",
        "    mean = sum(P) / len(P)\n",
        "    return [p - mean for p in P]\n",
        "\n",
        "def g(P, Q):\n",
        "    return sum(P[i] * Q[i] for i in range(len(P)))\n",
        "\n",
        "def sqrt(x):\n",
        "    return x ** 0.5\n",
        "def pearson(X, Y):\n",
        "  \"\"\"\n",
        "\tCompute the correlation coefficient\n",
        "\t\n",
        "    Arguments:\n",
        "        X: list of float\n",
        "        Y: list of float\n",
        "    Return:\n",
        "        result: float\n",
        "\t\"\"\"\n",
        "  x,y=f(X),f(Y)\n",
        "  return g(x,y)/(sqrt(g(x,x))*sqrt(g(y,y)))\n",
        "\t\n",
        "X = [float(x) for x in input().split()]\n",
        "Y = [float(y) for y in input().split()]\n",
        "print(f'{pearson(X, Y):.2f}')\n",
        "print(pearson(X, Y))\n"
      ],
      "metadata": {
        "colab": {
          "base_uri": "https://localhost:8080/"
        },
        "id": "m8QVzk01v117",
        "outputId": "8fb40600-e07e-4187-f7aa-fe3f3fc25b3c"
      },
      "execution_count": null,
      "outputs": [
        {
          "output_type": "stream",
          "name": "stdout",
          "text": [
            "4.5 4.5 6.7\n",
            "4.5 7.8 0.9\n",
            "-0.88\n",
            "-0.8782998231498673\n"
          ]
        }
      ]
    },
    {
      "cell_type": "markdown",
      "source": [
        "#moving on grid"
      ],
      "metadata": {
        "id": "dgBh950HI5_L"
      }
    },
    {
      "cell_type": "code",
      "source": [
        "def final(n, moves):\n",
        "    \"\"\"\n",
        "    Compute the final position\n",
        "    \n",
        "    Argument:\n",
        "        n: int\n",
        "        moves: string (like NSEWNSEW)\n",
        "    Return:\n",
        "        (x, y): tuple\n",
        "    \"\"\"\n",
        "    t=[1,1]\n",
        "    for i in moves:\n",
        "        if i=='N' and t[1]!=n: t[1]+=1\n",
        "        elif i=='S' and t[1]!=1: t[1]-=1\n",
        "        elif i=='E' and t[0]!=n : t[0]+=1\n",
        "        elif i=='W' and t[0]!=1 : t[0]-=1\n",
        "    return (t[0],t[1])"
      ],
      "metadata": {
        "id": "En8xAW1wI8vf"
      },
      "execution_count": null,
      "outputs": []
    },
    {
      "cell_type": "markdown",
      "source": [
        "#username_password"
      ],
      "metadata": {
        "id": "8EAPjM-KRh6e"
      }
    },
    {
      "cell_type": "code",
      "source": [
        "class Profile(object):\n",
        "        def __init__(self, username, password):\n",
        "            self.username=username\n",
        "            if Profile.check_password(password): \n",
        "                self.password=password  \n",
        "                self.old_passwords=[self.password,]\n",
        "            else:\n",
        "                self.password=None\n",
        "                self.old_passwords=[]\n",
        "            \n",
        "        def check_password(password):\n",
        "                if len(password)<=7: return False\n",
        "                elif not(password[0].isupper()): return False\n",
        "                elif not(password.isalnum()): return False\n",
        "                else: return True \n",
        "        def change_password(self, password):\n",
        "            if Profile.check_password(password) and (password not in self.old_passwords):\n",
        "                self.password=password \n",
        "                self.old_passwords+=[self.password] \n",
        "        def login(self, username, password):\n",
        "            if self.username==username and self.password==password:\n",
        "                print(\"WELCOME\")\n",
        "            else: print(\"INVALID\")"
      ],
      "metadata": {
        "id": "TIfx54K4RibB"
      },
      "execution_count": null,
      "outputs": []
    }
  ]
}